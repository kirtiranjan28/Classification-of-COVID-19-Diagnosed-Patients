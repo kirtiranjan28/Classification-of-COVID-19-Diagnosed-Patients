{
 "cells": [
  {
   "cell_type": "markdown",
   "id": "ea182496",
   "metadata": {},
   "source": [
    "# Capstone Project on Classification of COVID-19 Diagnosis"
   ]
  },
  {
   "cell_type": "markdown",
   "id": "9ecefb02",
   "metadata": {},
   "source": [
    "## Introduction"
   ]
  },
  {
   "cell_type": "markdown",
   "id": "139d1093",
   "metadata": {},
   "source": [
    "In this big worldwide problem caused by COVID-19, it's really important for doctors to quickly and correctly find out if someone has the virus. Technology and healthcare working together can help solve this problem. Our special project, where we have used Python and Machine Learning, is a part of this solution. We're trying to make it easier and faster for doctors to tell if someone has COVID-19. It's like using smart tools to help doctors do their job better. \n",
    "\n",
    "In this endeavor, we embark on a journey to leverage the power of Python programming and advanced machine learning techniques. Our goal is to create a sophisticated system that can efficiently classify COVID-19 cases based on various diagnostic factors. By harnessing the capabilities of machine learning algorithms, we aim to provide healthcare professionals with a reliable tool that enhances the accuracy and speed of COVID-19 diagnoses."
   ]
  },
  {
   "cell_type": "markdown",
   "id": "d01e6cb7",
   "metadata": {},
   "source": [
    "### Dataset Description"
   ]
  },
  {
   "cell_type": "markdown",
   "id": "a75aba9b",
   "metadata": {},
   "source": [
    "A. Basic information: \n",
    "\n",
    "1. **Ind_ID:** Patient's individual ID.\n",
    "2. **Test_date:** The date when test was conducted for COVID\n",
    "3. **Sex:** male or female. \n",
    "4. **Age_60_above:** Is the patient older than 60yrs (Yes/No).\n",
    "\n",
    "B. Symptoms: \n",
    "\n",
    "5. **Cough_symptoms:** If the patient is having cough symptoms (true/false).\n",
    "6. **Fever:** If the patient is having Fever (true/false). \n",
    "7. **Sore_throat:** Having Sore throat or not (true/false). \n",
    "8. **Shortness_of_breath:** If the patient has Shortness of breath (true/false). \n",
    "9. **Headache:** Having Headache or not (true/false). \n",
    "\n",
    "C. Other information: \n",
    "\n",
    "10. **Known_contact:** If the patient has came in contact with an individual confirmed to have COVID-19.\n",
    "\n",
    "D. Covid report\n",
    "\n",
    "11. **Corona:** Whether the result is COVID positive or negative. This is the Target Variable."
   ]
  },
  {
   "cell_type": "markdown",
   "id": "13bc9469",
   "metadata": {},
   "source": [
    "**1. Why is your proposal important in today’s world? How predicting a disease accurately can improve medical treatment?** "
   ]
  },
  {
   "cell_type": "markdown",
   "id": "8bce01ee",
   "metadata": {},
   "source": [
    "Using machine learning to accurately predict diseases, especially COVID-19, is incredibly vital today. Detecting diseases early based on symptoms is crucial for hospitals to isolate and treat patients promptly. This swift action is essential in preventing the disease from spreading further. By using advanced technology, doctors can make quicker and more precise diagnoses, ensuring timely care for patients. In the fight against COVID-19, early detection plays a central role, helping healthcare professionals to curb the spread of the virus effectively. Harnessing the power of machine learning, we pave the way for proactive healthcare, saving lives and safeguarding communities from the rapid transmission of diseases."
   ]
  },
  {
   "cell_type": "markdown",
   "id": "7dfda4dd",
   "metadata": {},
   "source": [
    "**2. How is it going to impact the medical field when it comes to effective screening and reducing health care burden?** "
   ]
  },
  {
   "cell_type": "markdown",
   "id": "c9b45b8d",
   "metadata": {},
   "source": [
    "Machine learning will help doctors find diseases early, like COVID-19, quickly and accurately. When diseases are spotted early, doctors can treat patients faster and stop the diseases from spreading. This not only helps sick people get better but also reduces the pressure on hospitals of testing and screening. These computer programs can look at a lot of information fast, helping doctors make decisions quickly. So, it means people don't have to wait long for their turn, and doctors can use their time and resources better."
   ]
  },
  {
   "cell_type": "markdown",
   "id": "1e2b3851",
   "metadata": {},
   "source": [
    "**3. If any, what is the gap in the knowledge or how your proposed method can be helpful if required in future for any other disease?**"
   ]
  },
  {
   "cell_type": "markdown",
   "id": "19554819",
   "metadata": {},
   "source": [
    "Poor or missing data can be a challenge for these models. But if it helps with COVID-19, we could use this tool to understand new diseases. So, even if a different disease shows up in the future, this tool can quickly analyze information and assist doctors. It's like having a super helper for any health problem we might face. This way, we're ready to tackle new diseases and keep people healthy."
   ]
  },
  {
   "cell_type": "markdown",
   "id": "07759397",
   "metadata": {},
   "source": [
    "## Hypothesis"
   ]
  },
  {
   "cell_type": "markdown",
   "id": "9289f190",
   "metadata": {},
   "source": [
    "Based on the dataset provided, we can propose the following null and alternative hypotheses:\n",
    "\n",
    "**Null Hypothesis 1(H0)**: There is no significant relationship between known contact with confirmed COVID-19 positive patients (variable: Known_contact) and the likelihood of testing corona positive.\n",
    "\n",
    "**Alternative Hypothesis 1(H1)**: Patients who were in direct contact with confirmed COVID-19 positive patients are more likely to test COVID-19 positive.\n",
    "\n",
    "**Null Hypothesis 2(H0)**: There is no significant relationship between symptoms such as shortness of breath, fever, and cough (variables: Shortness_of_breath, Fever, Cough_symptoms) and the likelihood of a person being COVID-19 positive or negative.\n",
    "\n",
    "**Alternative Hypothesis 2(H1)**: Symptoms such as Shortness_of_breath, fever, and cough are important factors in predicting COVID-19 positive cases.\n",
    "\n",
    "These hypotheses provide a clear framework for statistical analysis. The null hypotheses state that there is no relationship, while the alternative hypotheses suggest specific relationships between variables. Further analysis and modeling will be necessary to either accept or reject these hypotheses and draw conclusive insights regarding COVID-19 prediction from the dataset."
   ]
  },
  {
   "cell_type": "markdown",
   "id": "eb26cc74",
   "metadata": {},
   "source": [
    "### Importing libraries"
   ]
  },
  {
   "cell_type": "code",
   "execution_count": 1,
   "id": "c10e9b88",
   "metadata": {},
   "outputs": [],
   "source": [
    "import pandas as pd\n",
    "import numpy as np\n",
    "import matplotlib.pyplot as plt\n",
    "import seaborn as sns\n",
    "\n",
    "import warnings\n",
    "warnings.filterwarnings(\"ignore\")\n",
    "\n",
    "from sklearn.linear_model import LogisticRegression\n",
    "from sklearn.tree import DecisionTreeClassifier\n",
    "from sklearn.ensemble import RandomForestClassifier\n",
    "from sklearn.svm import SVC\n",
    "\n",
    "from sklearn.metrics import confusion_matrix, accuracy_score, classification_report, roc_curve, auc\n",
    "from sklearn.model_selection import cross_val_score\n",
    "from sklearn.metrics._plot.roc_curve import auc"
   ]
  },
  {
   "cell_type": "code",
   "execution_count": 2,
   "id": "e6c76d3d",
   "metadata": {},
   "outputs": [
    {
     "data": {
      "text/html": [
       "<div>\n",
       "<style scoped>\n",
       "    .dataframe tbody tr th:only-of-type {\n",
       "        vertical-align: middle;\n",
       "    }\n",
       "\n",
       "    .dataframe tbody tr th {\n",
       "        vertical-align: top;\n",
       "    }\n",
       "\n",
       "    .dataframe thead th {\n",
       "        text-align: right;\n",
       "    }\n",
       "</style>\n",
       "<table border=\"1\" class=\"dataframe\">\n",
       "  <thead>\n",
       "    <tr style=\"text-align: right;\">\n",
       "      <th></th>\n",
       "      <th>Ind_ID</th>\n",
       "      <th>Test_date</th>\n",
       "      <th>Cough_symptoms</th>\n",
       "      <th>Fever</th>\n",
       "      <th>Sore_throat</th>\n",
       "      <th>Shortness_of_breath</th>\n",
       "      <th>Headache</th>\n",
       "      <th>Corona</th>\n",
       "      <th>Age_60_above</th>\n",
       "      <th>Sex</th>\n",
       "      <th>Known_contact</th>\n",
       "    </tr>\n",
       "  </thead>\n",
       "  <tbody>\n",
       "    <tr>\n",
       "      <th>0</th>\n",
       "      <td>1</td>\n",
       "      <td>11-03-2020</td>\n",
       "      <td>TRUE</td>\n",
       "      <td>FALSE</td>\n",
       "      <td>TRUE</td>\n",
       "      <td>FALSE</td>\n",
       "      <td>FALSE</td>\n",
       "      <td>negative</td>\n",
       "      <td>None</td>\n",
       "      <td>None</td>\n",
       "      <td>Abroad</td>\n",
       "    </tr>\n",
       "    <tr>\n",
       "      <th>1</th>\n",
       "      <td>2</td>\n",
       "      <td>11-03-2020</td>\n",
       "      <td>FALSE</td>\n",
       "      <td>TRUE</td>\n",
       "      <td>FALSE</td>\n",
       "      <td>FALSE</td>\n",
       "      <td>FALSE</td>\n",
       "      <td>positive</td>\n",
       "      <td>None</td>\n",
       "      <td>None</td>\n",
       "      <td>Abroad</td>\n",
       "    </tr>\n",
       "    <tr>\n",
       "      <th>2</th>\n",
       "      <td>3</td>\n",
       "      <td>11-03-2020</td>\n",
       "      <td>FALSE</td>\n",
       "      <td>TRUE</td>\n",
       "      <td>FALSE</td>\n",
       "      <td>FALSE</td>\n",
       "      <td>FALSE</td>\n",
       "      <td>positive</td>\n",
       "      <td>None</td>\n",
       "      <td>None</td>\n",
       "      <td>Abroad</td>\n",
       "    </tr>\n",
       "    <tr>\n",
       "      <th>3</th>\n",
       "      <td>4</td>\n",
       "      <td>11-03-2020</td>\n",
       "      <td>TRUE</td>\n",
       "      <td>FALSE</td>\n",
       "      <td>FALSE</td>\n",
       "      <td>FALSE</td>\n",
       "      <td>FALSE</td>\n",
       "      <td>negative</td>\n",
       "      <td>None</td>\n",
       "      <td>None</td>\n",
       "      <td>Abroad</td>\n",
       "    </tr>\n",
       "    <tr>\n",
       "      <th>4</th>\n",
       "      <td>5</td>\n",
       "      <td>11-03-2020</td>\n",
       "      <td>TRUE</td>\n",
       "      <td>FALSE</td>\n",
       "      <td>FALSE</td>\n",
       "      <td>FALSE</td>\n",
       "      <td>FALSE</td>\n",
       "      <td>negative</td>\n",
       "      <td>None</td>\n",
       "      <td>None</td>\n",
       "      <td>Contact with confirmed</td>\n",
       "    </tr>\n",
       "  </tbody>\n",
       "</table>\n",
       "</div>"
      ],
      "text/plain": [
       "   Ind_ID   Test_date Cough_symptoms  Fever Sore_throat Shortness_of_breath  \\\n",
       "0       1  11-03-2020           TRUE  FALSE        TRUE               FALSE   \n",
       "1       2  11-03-2020          FALSE   TRUE       FALSE               FALSE   \n",
       "2       3  11-03-2020          FALSE   TRUE       FALSE               FALSE   \n",
       "3       4  11-03-2020           TRUE  FALSE       FALSE               FALSE   \n",
       "4       5  11-03-2020           TRUE  FALSE       FALSE               FALSE   \n",
       "\n",
       "  Headache    Corona Age_60_above   Sex           Known_contact  \n",
       "0    FALSE  negative         None  None                  Abroad  \n",
       "1    FALSE  positive         None  None                  Abroad  \n",
       "2    FALSE  positive         None  None                  Abroad  \n",
       "3    FALSE  negative         None  None                  Abroad  \n",
       "4    FALSE  negative         None  None  Contact with confirmed  "
      ]
     },
     "execution_count": 2,
     "metadata": {},
     "output_type": "execute_result"
    }
   ],
   "source": [
    "# Load the data\n",
    "dataset = pd.read_csv(r\"C:\\Users\\Kirti Ranjan\\Desktop\\OdinSchool\\Python\\Capstone Project\\Corona-Dataset\\corona_tested_006.csv\")\n",
    "dataset.head()"
   ]
  },
  {
   "cell_type": "code",
   "execution_count": 3,
   "id": "88be862a",
   "metadata": {},
   "outputs": [
    {
     "data": {
      "text/html": [
       "<div>\n",
       "<style scoped>\n",
       "    .dataframe tbody tr th:only-of-type {\n",
       "        vertical-align: middle;\n",
       "    }\n",
       "\n",
       "    .dataframe tbody tr th {\n",
       "        vertical-align: top;\n",
       "    }\n",
       "\n",
       "    .dataframe thead th {\n",
       "        text-align: right;\n",
       "    }\n",
       "</style>\n",
       "<table border=\"1\" class=\"dataframe\">\n",
       "  <thead>\n",
       "    <tr style=\"text-align: right;\">\n",
       "      <th></th>\n",
       "      <th>Ind_ID</th>\n",
       "      <th>Test_date</th>\n",
       "      <th>Cough_symptoms</th>\n",
       "      <th>Fever</th>\n",
       "      <th>Sore_throat</th>\n",
       "      <th>Shortness_of_breath</th>\n",
       "      <th>Headache</th>\n",
       "      <th>Corona</th>\n",
       "      <th>Age_60_above</th>\n",
       "      <th>Sex</th>\n",
       "      <th>Known_contact</th>\n",
       "    </tr>\n",
       "  </thead>\n",
       "  <tbody>\n",
       "    <tr>\n",
       "      <th>261422</th>\n",
       "      <td>261423</td>\n",
       "      <td>28-04-2020</td>\n",
       "      <td>False</td>\n",
       "      <td>False</td>\n",
       "      <td>False</td>\n",
       "      <td>False</td>\n",
       "      <td>False</td>\n",
       "      <td>negative</td>\n",
       "      <td>None</td>\n",
       "      <td>male</td>\n",
       "      <td>Other</td>\n",
       "    </tr>\n",
       "    <tr>\n",
       "      <th>198633</th>\n",
       "      <td>198634</td>\n",
       "      <td>20-04-2020</td>\n",
       "      <td>False</td>\n",
       "      <td>False</td>\n",
       "      <td>False</td>\n",
       "      <td>False</td>\n",
       "      <td>False</td>\n",
       "      <td>negative</td>\n",
       "      <td>None</td>\n",
       "      <td>female</td>\n",
       "      <td>Other</td>\n",
       "    </tr>\n",
       "    <tr>\n",
       "      <th>123409</th>\n",
       "      <td>123410</td>\n",
       "      <td>09-04-2020</td>\n",
       "      <td>FALSE</td>\n",
       "      <td>FALSE</td>\n",
       "      <td>False</td>\n",
       "      <td>False</td>\n",
       "      <td>False</td>\n",
       "      <td>negative</td>\n",
       "      <td>No</td>\n",
       "      <td>female</td>\n",
       "      <td>Other</td>\n",
       "    </tr>\n",
       "    <tr>\n",
       "      <th>5277</th>\n",
       "      <td>5278</td>\n",
       "      <td>17-03-2020</td>\n",
       "      <td>FALSE</td>\n",
       "      <td>FALSE</td>\n",
       "      <td>FALSE</td>\n",
       "      <td>FALSE</td>\n",
       "      <td>FALSE</td>\n",
       "      <td>negative</td>\n",
       "      <td>No</td>\n",
       "      <td>None</td>\n",
       "      <td>Other</td>\n",
       "    </tr>\n",
       "    <tr>\n",
       "      <th>265976</th>\n",
       "      <td>265977</td>\n",
       "      <td>28-04-2020</td>\n",
       "      <td>False</td>\n",
       "      <td>False</td>\n",
       "      <td>False</td>\n",
       "      <td>False</td>\n",
       "      <td>False</td>\n",
       "      <td>negative</td>\n",
       "      <td>None</td>\n",
       "      <td>male</td>\n",
       "      <td>Other</td>\n",
       "    </tr>\n",
       "    <tr>\n",
       "      <th>235519</th>\n",
       "      <td>235520</td>\n",
       "      <td>24-04-2020</td>\n",
       "      <td>True</td>\n",
       "      <td>True</td>\n",
       "      <td>False</td>\n",
       "      <td>False</td>\n",
       "      <td>False</td>\n",
       "      <td>negative</td>\n",
       "      <td>None</td>\n",
       "      <td>female</td>\n",
       "      <td>Abroad</td>\n",
       "    </tr>\n",
       "    <tr>\n",
       "      <th>124496</th>\n",
       "      <td>124497</td>\n",
       "      <td>09-04-2020</td>\n",
       "      <td>FALSE</td>\n",
       "      <td>FALSE</td>\n",
       "      <td>True</td>\n",
       "      <td>False</td>\n",
       "      <td>False</td>\n",
       "      <td>positive</td>\n",
       "      <td>No</td>\n",
       "      <td>male</td>\n",
       "      <td>Other</td>\n",
       "    </tr>\n",
       "    <tr>\n",
       "      <th>8166</th>\n",
       "      <td>8167</td>\n",
       "      <td>19-03-2020</td>\n",
       "      <td>FALSE</td>\n",
       "      <td>FALSE</td>\n",
       "      <td>FALSE</td>\n",
       "      <td>FALSE</td>\n",
       "      <td>FALSE</td>\n",
       "      <td>negative</td>\n",
       "      <td>No</td>\n",
       "      <td>None</td>\n",
       "      <td>Other</td>\n",
       "    </tr>\n",
       "    <tr>\n",
       "      <th>53124</th>\n",
       "      <td>53125</td>\n",
       "      <td>29-03-2020</td>\n",
       "      <td>FALSE</td>\n",
       "      <td>FALSE</td>\n",
       "      <td>FALSE</td>\n",
       "      <td>FALSE</td>\n",
       "      <td>FALSE</td>\n",
       "      <td>negative</td>\n",
       "      <td>No</td>\n",
       "      <td>male</td>\n",
       "      <td>Other</td>\n",
       "    </tr>\n",
       "    <tr>\n",
       "      <th>152452</th>\n",
       "      <td>152453</td>\n",
       "      <td>14-04-2020</td>\n",
       "      <td>False</td>\n",
       "      <td>False</td>\n",
       "      <td>False</td>\n",
       "      <td>False</td>\n",
       "      <td>False</td>\n",
       "      <td>negative</td>\n",
       "      <td>No</td>\n",
       "      <td>female</td>\n",
       "      <td>Other</td>\n",
       "    </tr>\n",
       "  </tbody>\n",
       "</table>\n",
       "</div>"
      ],
      "text/plain": [
       "        Ind_ID   Test_date Cough_symptoms  Fever Sore_throat  \\\n",
       "261422  261423  28-04-2020          False  False       False   \n",
       "198633  198634  20-04-2020          False  False       False   \n",
       "123409  123410  09-04-2020          FALSE  FALSE       False   \n",
       "5277      5278  17-03-2020          FALSE  FALSE       FALSE   \n",
       "265976  265977  28-04-2020          False  False       False   \n",
       "235519  235520  24-04-2020           True   True       False   \n",
       "124496  124497  09-04-2020          FALSE  FALSE        True   \n",
       "8166      8167  19-03-2020          FALSE  FALSE       FALSE   \n",
       "53124    53125  29-03-2020          FALSE  FALSE       FALSE   \n",
       "152452  152453  14-04-2020          False  False       False   \n",
       "\n",
       "       Shortness_of_breath Headache    Corona Age_60_above     Sex  \\\n",
       "261422               False    False  negative         None    male   \n",
       "198633               False    False  negative         None  female   \n",
       "123409               False    False  negative           No  female   \n",
       "5277                 FALSE    FALSE  negative           No    None   \n",
       "265976               False    False  negative         None    male   \n",
       "235519               False    False  negative         None  female   \n",
       "124496               False    False  positive           No    male   \n",
       "8166                 FALSE    FALSE  negative           No    None   \n",
       "53124                FALSE    FALSE  negative           No    male   \n",
       "152452               False    False  negative           No  female   \n",
       "\n",
       "       Known_contact  \n",
       "261422         Other  \n",
       "198633         Other  \n",
       "123409         Other  \n",
       "5277           Other  \n",
       "265976         Other  \n",
       "235519        Abroad  \n",
       "124496         Other  \n",
       "8166           Other  \n",
       "53124          Other  \n",
       "152452         Other  "
      ]
     },
     "execution_count": 3,
     "metadata": {},
     "output_type": "execute_result"
    }
   ],
   "source": [
    "#Check any 10 samples from the observations\n",
    "dataset.sample(10)"
   ]
  },
  {
   "cell_type": "code",
   "execution_count": 4,
   "id": "fdfee1ac",
   "metadata": {},
   "outputs": [
    {
     "data": {
      "text/plain": [
       "(278848, 11)"
      ]
     },
     "execution_count": 4,
     "metadata": {},
     "output_type": "execute_result"
    }
   ],
   "source": [
    "dataset.shape"
   ]
  },
  {
   "cell_type": "markdown",
   "id": "7a00885e",
   "metadata": {},
   "source": [
    "The dataset has 278848 number of observations and 11 features."
   ]
  },
  {
   "cell_type": "code",
   "execution_count": 5,
   "id": "836a1bdb",
   "metadata": {},
   "outputs": [
    {
     "name": "stdout",
     "output_type": "stream",
     "text": [
      "<class 'pandas.core.frame.DataFrame'>\n",
      "RangeIndex: 278848 entries, 0 to 278847\n",
      "Data columns (total 11 columns):\n",
      " #   Column               Non-Null Count   Dtype \n",
      "---  ------               --------------   ----- \n",
      " 0   Ind_ID               278848 non-null  int64 \n",
      " 1   Test_date            278848 non-null  object\n",
      " 2   Cough_symptoms       278848 non-null  object\n",
      " 3   Fever                278848 non-null  object\n",
      " 4   Sore_throat          278848 non-null  object\n",
      " 5   Shortness_of_breath  278848 non-null  object\n",
      " 6   Headache             278848 non-null  object\n",
      " 7   Corona               278848 non-null  object\n",
      " 8   Age_60_above         278848 non-null  object\n",
      " 9   Sex                  278848 non-null  object\n",
      " 10  Known_contact        278848 non-null  object\n",
      "dtypes: int64(1), object(10)\n",
      "memory usage: 23.4+ MB\n"
     ]
    }
   ],
   "source": [
    "dataset.info()"
   ]
  },
  {
   "cell_type": "markdown",
   "id": "9ea79935",
   "metadata": {},
   "source": [
    "Except for the 'Ind_ID' column, all other features have a data type of object."
   ]
  },
  {
   "cell_type": "code",
   "execution_count": 6,
   "id": "8367e8d2",
   "metadata": {},
   "outputs": [
    {
     "data": {
      "text/plain": [
       "Ind_ID                 0\n",
       "Test_date              0\n",
       "Cough_symptoms         0\n",
       "Fever                  0\n",
       "Sore_throat            0\n",
       "Shortness_of_breath    0\n",
       "Headache               0\n",
       "Corona                 0\n",
       "Age_60_above           0\n",
       "Sex                    0\n",
       "Known_contact          0\n",
       "dtype: int64"
      ]
     },
     "execution_count": 6,
     "metadata": {},
     "output_type": "execute_result"
    }
   ],
   "source": [
    "#Check null values\n",
    "dataset.isnull().sum()"
   ]
  },
  {
   "cell_type": "code",
   "execution_count": 7,
   "id": "e0d948f2",
   "metadata": {},
   "outputs": [
    {
     "data": {
      "text/plain": [
       "0"
      ]
     },
     "execution_count": 7,
     "metadata": {},
     "output_type": "execute_result"
    }
   ],
   "source": [
    "dataset.duplicated().sum()"
   ]
  },
  {
   "cell_type": "markdown",
   "id": "a0af224c",
   "metadata": {},
   "source": [
    "The dataset contains neither missing values nor duplicate values."
   ]
  },
  {
   "cell_type": "code",
   "execution_count": 8,
   "id": "60681993",
   "metadata": {},
   "outputs": [
    {
     "data": {
      "text/plain": [
       "Ind_ID                 278848\n",
       "Test_date                  51\n",
       "Cough_symptoms              5\n",
       "Fever                       5\n",
       "Sore_throat                 5\n",
       "Shortness_of_breath         5\n",
       "Headache                    5\n",
       "Corona                      3\n",
       "Age_60_above                3\n",
       "Sex                         3\n",
       "Known_contact               3\n",
       "dtype: int64"
      ]
     },
     "execution_count": 8,
     "metadata": {},
     "output_type": "execute_result"
    }
   ],
   "source": [
    "dataset.nunique()"
   ]
  },
  {
   "cell_type": "markdown",
   "id": "a5336fad",
   "metadata": {},
   "source": [
    "In the dataset, the 'Ind_ID' column has 278,848 unique values, the 'Test_date' column has 51 unique values, and 'Cough_symptoms', 'Fever', 'Sore_throat', 'Shortness_of_breath', and 'Headache' each have 5 unique values. Additionally, 'Corona', 'Age_60_above', 'Sex', and 'Known_contact' contain 3 unique values."
   ]
  },
  {
   "cell_type": "code",
   "execution_count": 9,
   "id": "4fc409de",
   "metadata": {},
   "outputs": [
    {
     "name": "stdout",
     "output_type": "stream",
     "text": [
      "----------------------\n",
      "**Cough_symptoms**\n",
      "False    127531\n",
      "FALSE    108837\n",
      "TRUE      21983\n",
      "True      20245\n",
      "None        252\n",
      "Name: Cough_symptoms, dtype: int64\n",
      "----------------------\n",
      "**Fever**\n",
      "False    137774\n",
      "FALSE    119070\n",
      "TRUE      11750\n",
      "True      10002\n",
      "None        252\n",
      "Name: Fever, dtype: int64\n",
      "----------------------\n",
      "**Sore_throat**\n",
      "False    212584\n",
      "FALSE     64337\n",
      "TRUE       1198\n",
      "True        728\n",
      "None          1\n",
      "Name: Sore_throat, dtype: int64\n",
      "----------------------\n",
      "**Shortness_of_breath**\n",
      "False    212842\n",
      "FALSE     64428\n",
      "TRUE       1107\n",
      "True        470\n",
      "None          1\n",
      "Name: Shortness_of_breath, dtype: int64\n",
      "----------------------\n",
      "**Headache**\n",
      "False    212326\n",
      "FALSE     64107\n",
      "TRUE       1428\n",
      "True        986\n",
      "None          1\n",
      "Name: Headache, dtype: int64\n",
      "----------------------\n",
      "**Corona**\n",
      "negative    260227\n",
      "positive     14729\n",
      "other         3892\n",
      "Name: Corona, dtype: int64\n",
      "----------------------\n",
      "**Age_60_above**\n",
      "None    127320\n",
      "No      125703\n",
      "Yes      25825\n",
      "Name: Age_60_above, dtype: int64\n",
      "----------------------\n",
      "**Sex**\n",
      "female    130158\n",
      "male      129127\n",
      "None       19563\n",
      "Name: Sex, dtype: int64\n",
      "----------------------\n",
      "**Known_contact**\n",
      "Other                     242741\n",
      "Abroad                     25468\n",
      "Contact with confirmed     10639\n",
      "Name: Known_contact, dtype: int64\n"
     ]
    }
   ],
   "source": [
    "# Checking Unique values in each column(except Ind_ID and Test_date)\n",
    "for column in dataset.columns:\n",
    "    if column == 'Ind_ID' or column == 'Test_date':\n",
    "        pass\n",
    "    else:\n",
    "        print('----------------------')\n",
    "        print(\"**%s**\" %column)\n",
    "        print(dataset[column].value_counts())"
   ]
  },
  {
   "cell_type": "markdown",
   "id": "510e5042",
   "metadata": {},
   "source": [
    "In the dataset, the columns 'Cough_symptoms,' 'Fever,' 'Sore_throat,' 'Shortness_of_breath,' and 'Headache' contain values such as TRUE, True, FALSE, False, and none. The symptoms are expected to be either true or false; it cannot be 'none.' Therefore, replacing the 'none' values with null. Additionally, 'True' and 'False' are written in both uppercase and lowercase letters (i.e., TRUE, True, FALSE, False), which impacts the total count of unique values in these columns."
   ]
  },
  {
   "cell_type": "code",
   "execution_count": 10,
   "id": "eba4c97d",
   "metadata": {},
   "outputs": [],
   "source": [
    "covid_data = dataset.copy()"
   ]
  },
  {
   "cell_type": "code",
   "execution_count": 11,
   "id": "28f2a378",
   "metadata": {},
   "outputs": [],
   "source": [
    "columns_to_replace = ['Cough_symptoms', 'Fever', 'Sore_throat', 'Shortness_of_breath', 'Headache']\n",
    "\n",
    "# Iterate through specified columns and apply replacements\n",
    "for column in columns_to_replace:\n",
    "    covid_data[column] = covid_data[column].apply(lambda x: 'TRUE' if x is True else ('FALSE' if x is False else (np.nan if x == 'None' else x)))"
   ]
  },
  {
   "cell_type": "code",
   "execution_count": 12,
   "id": "dd3c70c9",
   "metadata": {},
   "outputs": [
    {
     "name": "stdout",
     "output_type": "stream",
     "text": [
      "----------------------\n",
      "**Cough_symptoms**\n",
      "FALSE    236368\n",
      "TRUE      42228\n",
      "Name: Cough_symptoms, dtype: int64\n",
      "----------------------\n",
      "**Fever**\n",
      "FALSE    256844\n",
      "TRUE      21752\n",
      "Name: Fever, dtype: int64\n",
      "----------------------\n",
      "**Sore_throat**\n",
      "FALSE    276921\n",
      "TRUE       1926\n",
      "Name: Sore_throat, dtype: int64\n",
      "----------------------\n",
      "**Shortness_of_breath**\n",
      "FALSE    277270\n",
      "TRUE       1577\n",
      "Name: Shortness_of_breath, dtype: int64\n",
      "----------------------\n",
      "**Headache**\n",
      "FALSE    276433\n",
      "TRUE       2414\n",
      "Name: Headache, dtype: int64\n",
      "----------------------\n",
      "**Corona**\n",
      "negative    260227\n",
      "positive     14729\n",
      "other         3892\n",
      "Name: Corona, dtype: int64\n",
      "----------------------\n",
      "**Age_60_above**\n",
      "None    127320\n",
      "No      125703\n",
      "Yes      25825\n",
      "Name: Age_60_above, dtype: int64\n",
      "----------------------\n",
      "**Sex**\n",
      "female    130158\n",
      "male      129127\n",
      "None       19563\n",
      "Name: Sex, dtype: int64\n",
      "----------------------\n",
      "**Known_contact**\n",
      "Other                     242741\n",
      "Abroad                     25468\n",
      "Contact with confirmed     10639\n",
      "Name: Known_contact, dtype: int64\n"
     ]
    }
   ],
   "source": [
    "# Checking Unique values in each column\n",
    "\n",
    "for column in covid_data.columns:\n",
    "    if column == 'Ind_ID' or column == 'Test_date':\n",
    "        pass\n",
    "    else:\n",
    "        print('----------------------')\n",
    "        print(\"**%s**\" %column)\n",
    "        print(covid_data[column].value_counts())"
   ]
  },
  {
   "cell_type": "markdown",
   "id": "3dba938e",
   "metadata": {},
   "source": [
    "We have replaced the uppercase value with lowercase (i.e., TRUE as True and FALSE as False) and 'none' values with null."
   ]
  },
  {
   "cell_type": "code",
   "execution_count": 13,
   "id": "48389f34",
   "metadata": {},
   "outputs": [
    {
     "data": {
      "text/plain": [
       "Ind_ID                   0\n",
       "Test_date                0\n",
       "Cough_symptoms         252\n",
       "Fever                  252\n",
       "Sore_throat              1\n",
       "Shortness_of_breath      1\n",
       "Headache                 1\n",
       "Corona                   0\n",
       "Age_60_above             0\n",
       "Sex                      0\n",
       "Known_contact            0\n",
       "dtype: int64"
      ]
     },
     "execution_count": 13,
     "metadata": {},
     "output_type": "execute_result"
    }
   ],
   "source": [
    "covid_data.isnull().sum()"
   ]
  },
  {
   "cell_type": "markdown",
   "id": "caa58b4b",
   "metadata": {},
   "source": [
    "After replacing the 'none' values with null, 'Cough_symptoms' and 'Fever' each have 252 missing values, while 'Sore_throat,' 'Shortness_of_breath,' and 'Headache' each have 1 missing value."
   ]
  },
  {
   "cell_type": "code",
   "execution_count": 14,
   "id": "2214bc74",
   "metadata": {},
   "outputs": [
    {
     "data": {
      "text/plain": [
       "Ind_ID                 0.00\n",
       "Test_date              0.00\n",
       "Cough_symptoms         0.09\n",
       "Fever                  0.09\n",
       "Sore_throat            0.00\n",
       "Shortness_of_breath    0.00\n",
       "Headache               0.00\n",
       "Corona                 0.00\n",
       "Age_60_above           0.00\n",
       "Sex                    0.00\n",
       "Known_contact          0.00\n",
       "dtype: float64"
      ]
     },
     "execution_count": 14,
     "metadata": {},
     "output_type": "execute_result"
    }
   ],
   "source": [
    "round(covid_data.isnull().mean()*100,2)"
   ]
  },
  {
   "cell_type": "code",
   "execution_count": 15,
   "id": "d38c3d90",
   "metadata": {},
   "outputs": [],
   "source": [
    "covid_data.dropna(inplace=True)"
   ]
  },
  {
   "cell_type": "code",
   "execution_count": 16,
   "id": "691baa5f",
   "metadata": {},
   "outputs": [
    {
     "data": {
      "text/plain": [
       "Ind_ID                 0\n",
       "Test_date              0\n",
       "Cough_symptoms         0\n",
       "Fever                  0\n",
       "Sore_throat            0\n",
       "Shortness_of_breath    0\n",
       "Headache               0\n",
       "Corona                 0\n",
       "Age_60_above           0\n",
       "Sex                    0\n",
       "Known_contact          0\n",
       "dtype: int64"
      ]
     },
     "execution_count": 16,
     "metadata": {},
     "output_type": "execute_result"
    }
   ],
   "source": [
    "covid_data.isna().sum()"
   ]
  },
  {
   "cell_type": "markdown",
   "id": "a965d234",
   "metadata": {},
   "source": [
    "We have removed all the missing values from their respective columns."
   ]
  },
  {
   "cell_type": "code",
   "execution_count": 17,
   "id": "181cbda2",
   "metadata": {},
   "outputs": [
    {
     "data": {
      "text/html": [
       "<div>\n",
       "<style scoped>\n",
       "    .dataframe tbody tr th:only-of-type {\n",
       "        vertical-align: middle;\n",
       "    }\n",
       "\n",
       "    .dataframe tbody tr th {\n",
       "        vertical-align: top;\n",
       "    }\n",
       "\n",
       "    .dataframe thead th {\n",
       "        text-align: right;\n",
       "    }\n",
       "</style>\n",
       "<table border=\"1\" class=\"dataframe\">\n",
       "  <thead>\n",
       "    <tr style=\"text-align: right;\">\n",
       "      <th></th>\n",
       "      <th>Ind_ID</th>\n",
       "      <th>Test_date</th>\n",
       "      <th>Cough_symptoms</th>\n",
       "      <th>Fever</th>\n",
       "      <th>Sore_throat</th>\n",
       "      <th>Shortness_of_breath</th>\n",
       "      <th>Headache</th>\n",
       "      <th>Corona</th>\n",
       "      <th>Age_60_above</th>\n",
       "      <th>Sex</th>\n",
       "      <th>Known_contact</th>\n",
       "    </tr>\n",
       "  </thead>\n",
       "  <tbody>\n",
       "    <tr>\n",
       "      <th>0</th>\n",
       "      <td>1</td>\n",
       "      <td>11-03-2020</td>\n",
       "      <td>TRUE</td>\n",
       "      <td>FALSE</td>\n",
       "      <td>TRUE</td>\n",
       "      <td>FALSE</td>\n",
       "      <td>FALSE</td>\n",
       "      <td>negative</td>\n",
       "      <td>None</td>\n",
       "      <td>None</td>\n",
       "      <td>Abroad</td>\n",
       "    </tr>\n",
       "    <tr>\n",
       "      <th>1</th>\n",
       "      <td>2</td>\n",
       "      <td>11-03-2020</td>\n",
       "      <td>FALSE</td>\n",
       "      <td>TRUE</td>\n",
       "      <td>FALSE</td>\n",
       "      <td>FALSE</td>\n",
       "      <td>FALSE</td>\n",
       "      <td>positive</td>\n",
       "      <td>None</td>\n",
       "      <td>None</td>\n",
       "      <td>Abroad</td>\n",
       "    </tr>\n",
       "    <tr>\n",
       "      <th>2</th>\n",
       "      <td>3</td>\n",
       "      <td>11-03-2020</td>\n",
       "      <td>FALSE</td>\n",
       "      <td>TRUE</td>\n",
       "      <td>FALSE</td>\n",
       "      <td>FALSE</td>\n",
       "      <td>FALSE</td>\n",
       "      <td>positive</td>\n",
       "      <td>None</td>\n",
       "      <td>None</td>\n",
       "      <td>Abroad</td>\n",
       "    </tr>\n",
       "    <tr>\n",
       "      <th>3</th>\n",
       "      <td>4</td>\n",
       "      <td>11-03-2020</td>\n",
       "      <td>TRUE</td>\n",
       "      <td>FALSE</td>\n",
       "      <td>FALSE</td>\n",
       "      <td>FALSE</td>\n",
       "      <td>FALSE</td>\n",
       "      <td>negative</td>\n",
       "      <td>None</td>\n",
       "      <td>None</td>\n",
       "      <td>Abroad</td>\n",
       "    </tr>\n",
       "    <tr>\n",
       "      <th>4</th>\n",
       "      <td>5</td>\n",
       "      <td>11-03-2020</td>\n",
       "      <td>TRUE</td>\n",
       "      <td>FALSE</td>\n",
       "      <td>FALSE</td>\n",
       "      <td>FALSE</td>\n",
       "      <td>FALSE</td>\n",
       "      <td>negative</td>\n",
       "      <td>None</td>\n",
       "      <td>None</td>\n",
       "      <td>Contact with confirmed</td>\n",
       "    </tr>\n",
       "  </tbody>\n",
       "</table>\n",
       "</div>"
      ],
      "text/plain": [
       "   Ind_ID   Test_date Cough_symptoms  Fever Sore_throat Shortness_of_breath  \\\n",
       "0       1  11-03-2020           TRUE  FALSE        TRUE               FALSE   \n",
       "1       2  11-03-2020          FALSE   TRUE       FALSE               FALSE   \n",
       "2       3  11-03-2020          FALSE   TRUE       FALSE               FALSE   \n",
       "3       4  11-03-2020           TRUE  FALSE       FALSE               FALSE   \n",
       "4       5  11-03-2020           TRUE  FALSE       FALSE               FALSE   \n",
       "\n",
       "  Headache    Corona Age_60_above   Sex           Known_contact  \n",
       "0    FALSE  negative         None  None                  Abroad  \n",
       "1    FALSE  positive         None  None                  Abroad  \n",
       "2    FALSE  positive         None  None                  Abroad  \n",
       "3    FALSE  negative         None  None                  Abroad  \n",
       "4    FALSE  negative         None  None  Contact with confirmed  "
      ]
     },
     "execution_count": 17,
     "metadata": {},
     "output_type": "execute_result"
    }
   ],
   "source": [
    "covid_data.head()"
   ]
  },
  {
   "cell_type": "code",
   "execution_count": 18,
   "id": "0969df91",
   "metadata": {},
   "outputs": [
    {
     "data": {
      "text/plain": [
       "(278594, 11)"
      ]
     },
     "execution_count": 18,
     "metadata": {},
     "output_type": "execute_result"
    }
   ],
   "source": [
    "covid_data.shape"
   ]
  },
  {
   "cell_type": "markdown",
   "id": "955a05ae",
   "metadata": {},
   "source": [
    "After removing all the missing values, the dataset is left with 278,594 observations and 11 features."
   ]
  },
  {
   "cell_type": "code",
   "execution_count": 19,
   "id": "509b3137",
   "metadata": {},
   "outputs": [],
   "source": [
    "covid_data.to_csv(r\"C:\\Users\\Kirti Ranjan\\Desktop\\OdinSchool\\Python\\Capstone Project\\Corona-Dataset\\Corona_Dataset.csv\")"
   ]
  },
  {
   "cell_type": "markdown",
   "id": "e3341622",
   "metadata": {},
   "source": [
    "## Univariate Analysis"
   ]
  },
  {
   "cell_type": "code",
   "execution_count": 20,
   "id": "888bfccf",
   "metadata": {},
   "outputs": [
    {
     "data": {
      "image/png": "[encoded data removed]",
      "text/plain": [
       "<Figure size 576x720 with 5 Axes>"
      ]
     },
     "metadata": {
      "needs_background": "light"
     },
     "output_type": "display_data"
    }
   ],
   "source": [
    "plt.figure(figsize=(8, 10))\n",
    "\n",
    "plt.subplot(3,2,1)\n",
    "sns.countplot(x='Cough_symptoms', data=covid_data)\n",
    "plt.title('Distribution of Cough symptoms', fontsize = 16)\n",
    "plt.xlabel('Cough symptoms', fontsize = 14)\n",
    "\n",
    "plt.subplot(3,2,2)\n",
    "sns.countplot(x='Fever', data=covid_data)\n",
    "plt.title('Distribution of Fever', fontsize = 16)\n",
    "plt.xlabel('Fever', fontsize = 14)\n",
    "\n",
    "plt.subplot(3,2,3)\n",
    "sns.countplot(x='Sore_throat', data=covid_data)\n",
    "plt.title('Distribution of Sore throat', fontsize = 16)\n",
    "plt.xlabel('Sore Throat', fontsize = 14)\n",
    "\n",
    "plt.subplot(3,2,4)\n",
    "sns.countplot(x='Shortness_of_breath', data=covid_data)\n",
    "plt.title('Distribution of Shortness of Breath', fontsize = 16)\n",
    "plt.xlabel('Shortness of Breath', fontsize = 14)\n",
    "\n",
    "plt.subplot(3,2,5)\n",
    "sns.countplot(x='Headache', data=covid_data)\n",
    "plt.title('Distribution of Headache', fontsize = 16)\n",
    "plt.xlabel('Headache', fontsize = 14)\n",
    "\n",
    "plt.subplots_adjust(right=2.0, top =1.5)\n",
    "plt.show()"
   ]
  },
  {
   "cell_type": "markdown",
   "id": "f5ca428d",
   "metadata": {},
   "source": [
    "From the above histograms, we can see that the number of people with symptoms marked as 'True' is much lower than those with symptoms marked as 'False'."
   ]
  },
  {
   "cell_type": "code",
   "execution_count": 21,
   "id": "f5845701",
   "metadata": {},
   "outputs": [
    {
     "data": {
      "image/png": "[encoded data removed]",
      "text/plain": [
       "<Figure size 720x576 with 4 Axes>"
      ]
     },
     "metadata": {
      "needs_background": "light"
     },
     "output_type": "display_data"
    }
   ],
   "source": [
    "plt.figure(figsize=(10, 8))\n",
    "\n",
    "plt.subplot(2,2,1)\n",
    "sns.countplot(x='Corona', data=covid_data)\n",
    "plt.title('Distribution of COVID-19 Diagnosis', fontsize = 16)\n",
    "plt.xlabel('COVID-19 Diagnosis', fontsize = 14)\n",
    "\n",
    "plt.subplot(2,2,2)\n",
    "sns.countplot(x='Age_60_above', data=covid_data)\n",
    "plt.title('Distribution of Age > 60', fontsize = 16)\n",
    "plt.xlabel('Age > 60', fontsize = 14)\n",
    "\n",
    "plt.subplot(2,2,3)\n",
    "sns.countplot(x='Sex', data=covid_data)\n",
    "plt.title('Distribution of Sex', fontsize = 16)\n",
    "plt.xlabel('Sex', fontsize = 14)\n",
    "\n",
    "plt.subplot(2,2,4)\n",
    "sns.countplot(x='Known_contact', data=covid_data)\n",
    "plt.title('Distribution of Known Contact', fontsize = 16)\n",
    "plt.xlabel('Known Contact', fontsize = 14)\n",
    "\n",
    "plt.subplots_adjust(right=2.0, top =2.5)\n",
    "plt.show()"
   ]
  },
  {
   "cell_type": "markdown",
   "id": "a3ca4db5",
   "metadata": {},
   "source": [
    "1. As we have already seen, the majority of patients don't have all the symptoms. Therefore, the number of people diagnosed as COVID-19 positive is very low.\n",
    "\n",
    "2. The majority of the patients are below 60 years of age.\n",
    "3. We have almost an equal number of male and female patients."
   ]
  },
  {
   "cell_type": "code",
   "execution_count": 22,
   "id": "99afaea5",
   "metadata": {},
   "outputs": [
    {
     "data": {
      "text/plain": [
       "negative    260008\n",
       "positive     14694\n",
       "other         3892\n",
       "Name: Corona, dtype: int64"
      ]
     },
     "execution_count": 22,
     "metadata": {},
     "output_type": "execute_result"
    }
   ],
   "source": [
    "covid_data['Corona'].value_counts()"
   ]
  },
  {
   "cell_type": "markdown",
   "id": "fa872e2b",
   "metadata": {},
   "source": [
    "We have 260008 patients who tested negative for COVID-19, 14694 patients who tested positive, and 3892 patients who were tested for other diseases."
   ]
  },
  {
   "cell_type": "code",
   "execution_count": 23,
   "id": "e70055d9",
   "metadata": {},
   "outputs": [
    {
     "data": {
      "text/plain": [
       "17.694841431876956"
      ]
     },
     "execution_count": 23,
     "metadata": {},
     "output_type": "execute_result"
    }
   ],
   "source": [
    "covid_data[covid_data.Corona=='negative'].shape[0]/covid_data[covid_data.Corona=='positive'].shape[0]"
   ]
  },
  {
   "cell_type": "markdown",
   "id": "66d2a958",
   "metadata": {},
   "source": [
    "This shows that 1 out of every 17-18 patients is diagnosed as COVID-19 positive."
   ]
  },
  {
   "cell_type": "markdown",
   "id": "a019e42f",
   "metadata": {},
   "source": [
    "## Bivariate Analysis"
   ]
  },
  {
   "cell_type": "code",
   "execution_count": 24,
   "id": "ba67ed16",
   "metadata": {},
   "outputs": [
    {
     "data": {
      "image/png": "[encoded data removed]",
      "text/plain": [
       "<Figure size 576x432 with 5 Axes>"
      ]
     },
     "metadata": {
      "needs_background": "light"
     },
     "output_type": "display_data"
    }
   ],
   "source": [
    "plt.figure(figsize=(8, 6))\n",
    "\n",
    "plt.subplot(3,2,1)\n",
    "sns.countplot(x='Cough_symptoms', data=covid_data, hue='Corona')\n",
    "plt.title('Distribution of Cough symptoms by COVID-19 Diagnosis', fontsize = 16)\n",
    "plt.xlabel('Cough symptoms', fontsize = 14)\n",
    "\n",
    "plt.subplot(3,2,2)\n",
    "sns.countplot(x='Fever', data=covid_data, hue='Corona')\n",
    "plt.title('Distribution of Fever by COVID-19 Diagnosis', fontsize = 16)\n",
    "plt.xlabel('Fever', fontsize = 14)\n",
    "\n",
    "\n",
    "plt.subplot(3,2,3)\n",
    "sns.countplot(x='Sore_throat', data=covid_data, hue='Corona')\n",
    "plt.title('Distribution of Sore throat by COVID-19 Diagnosis', fontsize = 16)\n",
    "plt.xlabel('Sore throat', fontsize = 14)\n",
    "\n",
    "plt.subplot(3,2,4)\n",
    "sns.countplot(x='Shortness_of_breath', data=covid_data, hue='Corona')\n",
    "plt.title('Distribution of Shortness of Breath by COVID-19 Diagnosis', fontsize = 16)\n",
    "plt.xlabel('Shortness of Breath', fontsize = 14)\n",
    "\n",
    "plt.subplot(3,2,5)\n",
    "sns.countplot(x='Headache', data=covid_data, hue='Corona')\n",
    "plt.title('Distribution of Headache by COVID-19 Diagnosis', fontsize = 16)\n",
    "plt.xlabel('Headache', fontsize = 14)\n",
    "\n",
    "plt.subplots_adjust(right=2.0, top =2.5)\n",
    "plt.show()"
   ]
  },
  {
   "cell_type": "markdown",
   "id": "f5ccb791",
   "metadata": {},
   "source": [
    "From the above histogram plots, we can see that some patients without symptoms are also diagnosed with COVID-19."
   ]
  },
  {
   "cell_type": "code",
   "execution_count": 25,
   "id": "49145325",
   "metadata": {},
   "outputs": [
    {
     "data": {
      "image/png": "[encoded data removed]",
      "text/plain": [
       "<Figure size 432x288 with 3 Axes>"
      ]
     },
     "metadata": {
      "needs_background": "light"
     },
     "output_type": "display_data"
    }
   ],
   "source": [
    "plt.figure(figsize=(6, 4))\n",
    "\n",
    "plt.subplot(2,2,1)\n",
    "sns.countplot(x='Age_60_above', data=covid_data, hue='Corona')\n",
    "plt.title('Distribution of Age above 60 by COVID-19 Diagnosis', fontsize = 16)\n",
    "plt.xlabel('Age > 60', fontsize = 14)\n",
    "\n",
    "plt.subplot(2,2,2)\n",
    "sns.countplot(x='Sex', data=covid_data, hue='Corona')\n",
    "plt.title('Distribution of Sex by COVID-19 Diagnosis', fontsize = 16)\n",
    "plt.xlabel('Sex', fontsize = 14)\n",
    "\n",
    "\n",
    "plt.subplot(2,2,3)\n",
    "sns.countplot(x='Known_contact', data=covid_data, hue='Corona')\n",
    "plt.title('Distribution of Known Contact by COVID-19 Diagnosis', fontsize = 16)\n",
    "plt.xlabel('Known Contact', fontsize = 14)\n",
    "\n",
    "plt.subplots_adjust(right=2.0, top =2.5)\n",
    "plt.show()"
   ]
  },
  {
   "cell_type": "markdown",
   "id": "5847b230",
   "metadata": {},
   "source": [
    "1. Most patients below the age of 60 are diagnosed with COVID-19 compared to those above 60 years old.\n",
    "2. The number of male patients with COVID-19 is higher than that of female patients.\n",
    "3. Patients who were in direct contact with confirmed COVID-19 positive patients are more likely to test COVID-19 positive."
   ]
  },
  {
   "cell_type": "markdown",
   "id": "6fdc3e52",
   "metadata": {},
   "source": [
    "### Feature Encoding"
   ]
  },
  {
   "cell_type": "code",
   "execution_count": 26,
   "id": "eea24563",
   "metadata": {},
   "outputs": [],
   "source": [
    "covid_ec = covid_data.copy()"
   ]
  },
  {
   "cell_type": "code",
   "execution_count": 27,
   "id": "ea79f39e",
   "metadata": {},
   "outputs": [],
   "source": [
    "covid_ec.drop(['Ind_ID','Test_date'],axis=1,inplace=True)"
   ]
  },
  {
   "cell_type": "code",
   "execution_count": 28,
   "id": "6413d9ce",
   "metadata": {},
   "outputs": [
    {
     "data": {
      "text/plain": [
       "negative    260008\n",
       "positive     14694\n",
       "other         3892\n",
       "Name: Corona, dtype: int64"
      ]
     },
     "execution_count": 28,
     "metadata": {},
     "output_type": "execute_result"
    }
   ],
   "source": [
    "covid_ec['Corona'].value_counts()"
   ]
  },
  {
   "cell_type": "code",
   "execution_count": 29,
   "id": "651bb1dd",
   "metadata": {},
   "outputs": [],
   "source": [
    "covid_ec = covid_ec[covid_ec.Corona != 'other']"
   ]
  },
  {
   "cell_type": "markdown",
   "id": "be699761",
   "metadata": {},
   "source": [
    "As we are working on classifying the patients with COVID-19, either as negative or positive, we are excluding individuals diagnosed with other diseases."
   ]
  },
  {
   "cell_type": "code",
   "execution_count": 30,
   "id": "74a499d6",
   "metadata": {},
   "outputs": [
    {
     "data": {
      "text/plain": [
       "negative    260008\n",
       "positive     14694\n",
       "Name: Corona, dtype: int64"
      ]
     },
     "execution_count": 30,
     "metadata": {},
     "output_type": "execute_result"
    }
   ],
   "source": [
    "covid_ec['Corona'].value_counts()"
   ]
  },
  {
   "cell_type": "code",
   "execution_count": 31,
   "id": "76edf2f8",
   "metadata": {},
   "outputs": [
    {
     "data": {
      "text/html": [
       "<div>\n",
       "<style scoped>\n",
       "    .dataframe tbody tr th:only-of-type {\n",
       "        vertical-align: middle;\n",
       "    }\n",
       "\n",
       "    .dataframe tbody tr th {\n",
       "        vertical-align: top;\n",
       "    }\n",
       "\n",
       "    .dataframe thead th {\n",
       "        text-align: right;\n",
       "    }\n",
       "</style>\n",
       "<table border=\"1\" class=\"dataframe\">\n",
       "  <thead>\n",
       "    <tr style=\"text-align: right;\">\n",
       "      <th></th>\n",
       "      <th>Cough_symptoms</th>\n",
       "      <th>Fever</th>\n",
       "      <th>Sore_throat</th>\n",
       "      <th>Shortness_of_breath</th>\n",
       "      <th>Headache</th>\n",
       "      <th>Corona</th>\n",
       "      <th>Age_60_above</th>\n",
       "      <th>Sex</th>\n",
       "      <th>Known_contact</th>\n",
       "    </tr>\n",
       "  </thead>\n",
       "  <tbody>\n",
       "    <tr>\n",
       "      <th>0</th>\n",
       "      <td>TRUE</td>\n",
       "      <td>FALSE</td>\n",
       "      <td>TRUE</td>\n",
       "      <td>FALSE</td>\n",
       "      <td>FALSE</td>\n",
       "      <td>negative</td>\n",
       "      <td>None</td>\n",
       "      <td>None</td>\n",
       "      <td>Abroad</td>\n",
       "    </tr>\n",
       "    <tr>\n",
       "      <th>1</th>\n",
       "      <td>FALSE</td>\n",
       "      <td>TRUE</td>\n",
       "      <td>FALSE</td>\n",
       "      <td>FALSE</td>\n",
       "      <td>FALSE</td>\n",
       "      <td>positive</td>\n",
       "      <td>None</td>\n",
       "      <td>None</td>\n",
       "      <td>Abroad</td>\n",
       "    </tr>\n",
       "    <tr>\n",
       "      <th>2</th>\n",
       "      <td>FALSE</td>\n",
       "      <td>TRUE</td>\n",
       "      <td>FALSE</td>\n",
       "      <td>FALSE</td>\n",
       "      <td>FALSE</td>\n",
       "      <td>positive</td>\n",
       "      <td>None</td>\n",
       "      <td>None</td>\n",
       "      <td>Abroad</td>\n",
       "    </tr>\n",
       "    <tr>\n",
       "      <th>3</th>\n",
       "      <td>TRUE</td>\n",
       "      <td>FALSE</td>\n",
       "      <td>FALSE</td>\n",
       "      <td>FALSE</td>\n",
       "      <td>FALSE</td>\n",
       "      <td>negative</td>\n",
       "      <td>None</td>\n",
       "      <td>None</td>\n",
       "      <td>Abroad</td>\n",
       "    </tr>\n",
       "    <tr>\n",
       "      <th>4</th>\n",
       "      <td>TRUE</td>\n",
       "      <td>FALSE</td>\n",
       "      <td>FALSE</td>\n",
       "      <td>FALSE</td>\n",
       "      <td>FALSE</td>\n",
       "      <td>negative</td>\n",
       "      <td>None</td>\n",
       "      <td>None</td>\n",
       "      <td>Contact with confirmed</td>\n",
       "    </tr>\n",
       "  </tbody>\n",
       "</table>\n",
       "</div>"
      ],
      "text/plain": [
       "  Cough_symptoms  Fever Sore_throat Shortness_of_breath Headache    Corona  \\\n",
       "0           TRUE  FALSE        TRUE               FALSE    FALSE  negative   \n",
       "1          FALSE   TRUE       FALSE               FALSE    FALSE  positive   \n",
       "2          FALSE   TRUE       FALSE               FALSE    FALSE  positive   \n",
       "3           TRUE  FALSE       FALSE               FALSE    FALSE  negative   \n",
       "4           TRUE  FALSE       FALSE               FALSE    FALSE  negative   \n",
       "\n",
       "  Age_60_above   Sex           Known_contact  \n",
       "0         None  None                  Abroad  \n",
       "1         None  None                  Abroad  \n",
       "2         None  None                  Abroad  \n",
       "3         None  None                  Abroad  \n",
       "4         None  None  Contact with confirmed  "
      ]
     },
     "execution_count": 31,
     "metadata": {},
     "output_type": "execute_result"
    }
   ],
   "source": [
    "covid_ec.head()"
   ]
  },
  {
   "cell_type": "code",
   "execution_count": 32,
   "id": "de29a3da",
   "metadata": {},
   "outputs": [
    {
     "data": {
      "text/plain": [
       "(274702, 9)"
      ]
     },
     "execution_count": 32,
     "metadata": {},
     "output_type": "execute_result"
    }
   ],
   "source": [
    "covid_ec.shape"
   ]
  },
  {
   "cell_type": "markdown",
   "id": "baa04d3f",
   "metadata": {},
   "source": [
    "We have 9 categorical features in the dataset, and the data types for these features are currently 'object' (which usually indicates strings or textual data). Therefore, we need to convert these categorical features into integers to build the model."
   ]
  },
  {
   "cell_type": "code",
   "execution_count": 33,
   "id": "8b1aa424",
   "metadata": {},
   "outputs": [],
   "source": [
    "from sklearn.preprocessing import OrdinalEncoder\n",
    "\n",
    "# Initializing the OrdinalEncoder\n",
    "encoder = OrdinalEncoder()\n",
    "\n",
    "# Loop through the columns and encode them    \n",
    "for column in covid_ec.columns:\n",
    "    covid_ec[column] = encoder.fit_transform(covid_ec[[column]])"
   ]
  },
  {
   "cell_type": "code",
   "execution_count": 34,
   "id": "9d6898f9",
   "metadata": {},
   "outputs": [
    {
     "data": {
      "text/html": [
       "<div>\n",
       "<style scoped>\n",
       "    .dataframe tbody tr th:only-of-type {\n",
       "        vertical-align: middle;\n",
       "    }\n",
       "\n",
       "    .dataframe tbody tr th {\n",
       "        vertical-align: top;\n",
       "    }\n",
       "\n",
       "    .dataframe thead th {\n",
       "        text-align: right;\n",
       "    }\n",
       "</style>\n",
       "<table border=\"1\" class=\"dataframe\">\n",
       "  <thead>\n",
       "    <tr style=\"text-align: right;\">\n",
       "      <th></th>\n",
       "      <th>Cough_symptoms</th>\n",
       "      <th>Fever</th>\n",
       "      <th>Sore_throat</th>\n",
       "      <th>Shortness_of_breath</th>\n",
       "      <th>Headache</th>\n",
       "      <th>Corona</th>\n",
       "      <th>Age_60_above</th>\n",
       "      <th>Sex</th>\n",
       "      <th>Known_contact</th>\n",
       "    </tr>\n",
       "  </thead>\n",
       "  <tbody>\n",
       "    <tr>\n",
       "      <th>278418</th>\n",
       "      <td>0.0</td>\n",
       "      <td>0.0</td>\n",
       "      <td>0.0</td>\n",
       "      <td>0.0</td>\n",
       "      <td>0.0</td>\n",
       "      <td>0.0</td>\n",
       "      <td>1.0</td>\n",
       "      <td>2.0</td>\n",
       "      <td>2.0</td>\n",
       "    </tr>\n",
       "    <tr>\n",
       "      <th>214660</th>\n",
       "      <td>1.0</td>\n",
       "      <td>0.0</td>\n",
       "      <td>0.0</td>\n",
       "      <td>0.0</td>\n",
       "      <td>0.0</td>\n",
       "      <td>0.0</td>\n",
       "      <td>1.0</td>\n",
       "      <td>1.0</td>\n",
       "      <td>2.0</td>\n",
       "    </tr>\n",
       "    <tr>\n",
       "      <th>262562</th>\n",
       "      <td>1.0</td>\n",
       "      <td>0.0</td>\n",
       "      <td>0.0</td>\n",
       "      <td>0.0</td>\n",
       "      <td>0.0</td>\n",
       "      <td>0.0</td>\n",
       "      <td>1.0</td>\n",
       "      <td>1.0</td>\n",
       "      <td>0.0</td>\n",
       "    </tr>\n",
       "    <tr>\n",
       "      <th>609</th>\n",
       "      <td>1.0</td>\n",
       "      <td>0.0</td>\n",
       "      <td>0.0</td>\n",
       "      <td>0.0</td>\n",
       "      <td>0.0</td>\n",
       "      <td>0.0</td>\n",
       "      <td>1.0</td>\n",
       "      <td>0.0</td>\n",
       "      <td>0.0</td>\n",
       "    </tr>\n",
       "    <tr>\n",
       "      <th>158333</th>\n",
       "      <td>0.0</td>\n",
       "      <td>0.0</td>\n",
       "      <td>0.0</td>\n",
       "      <td>0.0</td>\n",
       "      <td>0.0</td>\n",
       "      <td>0.0</td>\n",
       "      <td>1.0</td>\n",
       "      <td>2.0</td>\n",
       "      <td>2.0</td>\n",
       "    </tr>\n",
       "    <tr>\n",
       "      <th>180156</th>\n",
       "      <td>0.0</td>\n",
       "      <td>0.0</td>\n",
       "      <td>0.0</td>\n",
       "      <td>0.0</td>\n",
       "      <td>0.0</td>\n",
       "      <td>1.0</td>\n",
       "      <td>1.0</td>\n",
       "      <td>2.0</td>\n",
       "      <td>1.0</td>\n",
       "    </tr>\n",
       "    <tr>\n",
       "      <th>137513</th>\n",
       "      <td>0.0</td>\n",
       "      <td>0.0</td>\n",
       "      <td>0.0</td>\n",
       "      <td>0.0</td>\n",
       "      <td>0.0</td>\n",
       "      <td>0.0</td>\n",
       "      <td>2.0</td>\n",
       "      <td>2.0</td>\n",
       "      <td>2.0</td>\n",
       "    </tr>\n",
       "    <tr>\n",
       "      <th>227164</th>\n",
       "      <td>0.0</td>\n",
       "      <td>0.0</td>\n",
       "      <td>0.0</td>\n",
       "      <td>0.0</td>\n",
       "      <td>0.0</td>\n",
       "      <td>0.0</td>\n",
       "      <td>1.0</td>\n",
       "      <td>1.0</td>\n",
       "      <td>2.0</td>\n",
       "    </tr>\n",
       "    <tr>\n",
       "      <th>104704</th>\n",
       "      <td>0.0</td>\n",
       "      <td>0.0</td>\n",
       "      <td>0.0</td>\n",
       "      <td>0.0</td>\n",
       "      <td>0.0</td>\n",
       "      <td>0.0</td>\n",
       "      <td>2.0</td>\n",
       "      <td>2.0</td>\n",
       "      <td>2.0</td>\n",
       "    </tr>\n",
       "    <tr>\n",
       "      <th>38032</th>\n",
       "      <td>0.0</td>\n",
       "      <td>0.0</td>\n",
       "      <td>0.0</td>\n",
       "      <td>0.0</td>\n",
       "      <td>0.0</td>\n",
       "      <td>0.0</td>\n",
       "      <td>0.0</td>\n",
       "      <td>2.0</td>\n",
       "      <td>2.0</td>\n",
       "    </tr>\n",
       "  </tbody>\n",
       "</table>\n",
       "</div>"
      ],
      "text/plain": [
       "        Cough_symptoms  Fever  Sore_throat  Shortness_of_breath  Headache  \\\n",
       "278418             0.0    0.0          0.0                  0.0       0.0   \n",
       "214660             1.0    0.0          0.0                  0.0       0.0   \n",
       "262562             1.0    0.0          0.0                  0.0       0.0   \n",
       "609                1.0    0.0          0.0                  0.0       0.0   \n",
       "158333             0.0    0.0          0.0                  0.0       0.0   \n",
       "180156             0.0    0.0          0.0                  0.0       0.0   \n",
       "137513             0.0    0.0          0.0                  0.0       0.0   \n",
       "227164             0.0    0.0          0.0                  0.0       0.0   \n",
       "104704             0.0    0.0          0.0                  0.0       0.0   \n",
       "38032              0.0    0.0          0.0                  0.0       0.0   \n",
       "\n",
       "        Corona  Age_60_above  Sex  Known_contact  \n",
       "278418     0.0           1.0  2.0            2.0  \n",
       "214660     0.0           1.0  1.0            2.0  \n",
       "262562     0.0           1.0  1.0            0.0  \n",
       "609        0.0           1.0  0.0            0.0  \n",
       "158333     0.0           1.0  2.0            2.0  \n",
       "180156     1.0           1.0  2.0            1.0  \n",
       "137513     0.0           2.0  2.0            2.0  \n",
       "227164     0.0           1.0  1.0            2.0  \n",
       "104704     0.0           2.0  2.0            2.0  \n",
       "38032      0.0           0.0  2.0            2.0  "
      ]
     },
     "execution_count": 34,
     "metadata": {},
     "output_type": "execute_result"
    }
   ],
   "source": [
    "covid_ec.sample(10)"
   ]
  },
  {
   "cell_type": "markdown",
   "id": "da45d036",
   "metadata": {},
   "source": [
    "#### Correlation between the features"
   ]
  },
  {
   "cell_type": "code",
   "execution_count": 35,
   "id": "903b2789",
   "metadata": {},
   "outputs": [
    {
     "data": {
      "text/html": [
       "<div>\n",
       "<style scoped>\n",
       "    .dataframe tbody tr th:only-of-type {\n",
       "        vertical-align: middle;\n",
       "    }\n",
       "\n",
       "    .dataframe tbody tr th {\n",
       "        vertical-align: top;\n",
       "    }\n",
       "\n",
       "    .dataframe thead th {\n",
       "        text-align: right;\n",
       "    }\n",
       "</style>\n",
       "<table border=\"1\" class=\"dataframe\">\n",
       "  <thead>\n",
       "    <tr style=\"text-align: right;\">\n",
       "      <th></th>\n",
       "      <th>Cough_symptoms</th>\n",
       "      <th>Fever</th>\n",
       "      <th>Sore_throat</th>\n",
       "      <th>Shortness_of_breath</th>\n",
       "      <th>Headache</th>\n",
       "      <th>Corona</th>\n",
       "      <th>Age_60_above</th>\n",
       "      <th>Sex</th>\n",
       "      <th>Known_contact</th>\n",
       "    </tr>\n",
       "  </thead>\n",
       "  <tbody>\n",
       "    <tr>\n",
       "      <th>Cough_symptoms</th>\n",
       "      <td>1.000000</td>\n",
       "      <td>0.453797</td>\n",
       "      <td>0.115613</td>\n",
       "      <td>0.106330</td>\n",
       "      <td>0.116730</td>\n",
       "      <td>0.196763</td>\n",
       "      <td>-0.064512</td>\n",
       "      <td>0.032537</td>\n",
       "      <td>-0.571655</td>\n",
       "    </tr>\n",
       "    <tr>\n",
       "      <th>Fever</th>\n",
       "      <td>0.453797</td>\n",
       "      <td>1.000000</td>\n",
       "      <td>0.122233</td>\n",
       "      <td>0.125840</td>\n",
       "      <td>0.169774</td>\n",
       "      <td>0.266633</td>\n",
       "      <td>-0.026195</td>\n",
       "      <td>0.025874</td>\n",
       "      <td>-0.348229</td>\n",
       "    </tr>\n",
       "    <tr>\n",
       "      <th>Sore_throat</th>\n",
       "      <td>0.115613</td>\n",
       "      <td>0.122233</td>\n",
       "      <td>1.000000</td>\n",
       "      <td>0.195181</td>\n",
       "      <td>0.323343</td>\n",
       "      <td>0.278462</td>\n",
       "      <td>-0.036781</td>\n",
       "      <td>-0.032192</td>\n",
       "      <td>-0.088699</td>\n",
       "    </tr>\n",
       "    <tr>\n",
       "      <th>Shortness_of_breath</th>\n",
       "      <td>0.106330</td>\n",
       "      <td>0.125840</td>\n",
       "      <td>0.195181</td>\n",
       "      <td>1.000000</td>\n",
       "      <td>0.202082</td>\n",
       "      <td>0.233417</td>\n",
       "      <td>-0.010114</td>\n",
       "      <td>-0.039852</td>\n",
       "      <td>-0.074619</td>\n",
       "    </tr>\n",
       "    <tr>\n",
       "      <th>Headache</th>\n",
       "      <td>0.116730</td>\n",
       "      <td>0.169774</td>\n",
       "      <td>0.323343</td>\n",
       "      <td>0.202082</td>\n",
       "      <td>1.000000</td>\n",
       "      <td>0.367324</td>\n",
       "      <td>-0.052285</td>\n",
       "      <td>-0.008858</td>\n",
       "      <td>-0.091871</td>\n",
       "    </tr>\n",
       "    <tr>\n",
       "      <th>Corona</th>\n",
       "      <td>0.196763</td>\n",
       "      <td>0.266633</td>\n",
       "      <td>0.278462</td>\n",
       "      <td>0.233417</td>\n",
       "      <td>0.367324</td>\n",
       "      <td>1.000000</td>\n",
       "      <td>-0.044910</td>\n",
       "      <td>0.014648</td>\n",
       "      <td>-0.211913</td>\n",
       "    </tr>\n",
       "    <tr>\n",
       "      <th>Age_60_above</th>\n",
       "      <td>-0.064512</td>\n",
       "      <td>-0.026195</td>\n",
       "      <td>-0.036781</td>\n",
       "      <td>-0.010114</td>\n",
       "      <td>-0.052285</td>\n",
       "      <td>-0.044910</td>\n",
       "      <td>1.000000</td>\n",
       "      <td>0.010818</td>\n",
       "      <td>0.076329</td>\n",
       "    </tr>\n",
       "    <tr>\n",
       "      <th>Sex</th>\n",
       "      <td>0.032537</td>\n",
       "      <td>0.025874</td>\n",
       "      <td>-0.032192</td>\n",
       "      <td>-0.039852</td>\n",
       "      <td>-0.008858</td>\n",
       "      <td>0.014648</td>\n",
       "      <td>0.010818</td>\n",
       "      <td>1.000000</td>\n",
       "      <td>-0.020027</td>\n",
       "    </tr>\n",
       "    <tr>\n",
       "      <th>Known_contact</th>\n",
       "      <td>-0.571655</td>\n",
       "      <td>-0.348229</td>\n",
       "      <td>-0.088699</td>\n",
       "      <td>-0.074619</td>\n",
       "      <td>-0.091871</td>\n",
       "      <td>-0.211913</td>\n",
       "      <td>0.076329</td>\n",
       "      <td>-0.020027</td>\n",
       "      <td>1.000000</td>\n",
       "    </tr>\n",
       "  </tbody>\n",
       "</table>\n",
       "</div>"
      ],
      "text/plain": [
       "                     Cough_symptoms     Fever  Sore_throat  \\\n",
       "Cough_symptoms             1.000000  0.453797     0.115613   \n",
       "Fever                      0.453797  1.000000     0.122233   \n",
       "Sore_throat                0.115613  0.122233     1.000000   \n",
       "Shortness_of_breath        0.106330  0.125840     0.195181   \n",
       "Headache                   0.116730  0.169774     0.323343   \n",
       "Corona                     0.196763  0.266633     0.278462   \n",
       "Age_60_above              -0.064512 -0.026195    -0.036781   \n",
       "Sex                        0.032537  0.025874    -0.032192   \n",
       "Known_contact             -0.571655 -0.348229    -0.088699   \n",
       "\n",
       "                     Shortness_of_breath  Headache    Corona  Age_60_above  \\\n",
       "Cough_symptoms                  0.106330  0.116730  0.196763     -0.064512   \n",
       "Fever                           0.125840  0.169774  0.266633     -0.026195   \n",
       "Sore_throat                     0.195181  0.323343  0.278462     -0.036781   \n",
       "Shortness_of_breath             1.000000  0.202082  0.233417     -0.010114   \n",
       "Headache                        0.202082  1.000000  0.367324     -0.052285   \n",
       "Corona                          0.233417  0.367324  1.000000     -0.044910   \n",
       "Age_60_above                   -0.010114 -0.052285 -0.044910      1.000000   \n",
       "Sex                            -0.039852 -0.008858  0.014648      0.010818   \n",
       "Known_contact                  -0.074619 -0.091871 -0.211913      0.076329   \n",
       "\n",
       "                          Sex  Known_contact  \n",
       "Cough_symptoms       0.032537      -0.571655  \n",
       "Fever                0.025874      -0.348229  \n",
       "Sore_throat         -0.032192      -0.088699  \n",
       "Shortness_of_breath -0.039852      -0.074619  \n",
       "Headache            -0.008858      -0.091871  \n",
       "Corona               0.014648      -0.211913  \n",
       "Age_60_above         0.010818       0.076329  \n",
       "Sex                  1.000000      -0.020027  \n",
       "Known_contact       -0.020027       1.000000  "
      ]
     },
     "execution_count": 35,
     "metadata": {},
     "output_type": "execute_result"
    }
   ],
   "source": [
    "correlation = covid_ec.corr()\n",
    "correlation"
   ]
  },
  {
   "cell_type": "code",
   "execution_count": 36,
   "id": "222d435c",
   "metadata": {},
   "outputs": [
    {
     "data": {
      "image/png": "[encoded data removed]",
      "text/plain": [
       "<Figure size 1152x432 with 2 Axes>"
      ]
     },
     "metadata": {
      "needs_background": "light"
     },
     "output_type": "display_data"
    }
   ],
   "source": [
    "# plot the heatmap.\n",
    "plt.figure(figsize=(16, 6))\n",
    "heatmap = sns.heatmap(correlation, vmin=-1, vmax=1, annot=True)\n",
    "\n",
    "heatmap.set_title('Correlation Heatmap of COVID-19', fontdict={'fontsize':15}, pad=12);"
   ]
  },
  {
   "cell_type": "markdown",
   "id": "9427d9af",
   "metadata": {},
   "source": [
    "A negative correlation of -0.57 can be observed between Cough_symptoms and Known_contact. This suggests that in this specific dataset, patients with cough symptoms are less likely to have a known contact with a confirmed COVID-19 patient. "
   ]
  },
  {
   "cell_type": "markdown",
   "id": "a20d7f4c",
   "metadata": {},
   "source": [
    "### Splitting Data into Train and Test"
   ]
  },
  {
   "cell_type": "code",
   "execution_count": 37,
   "id": "9e8518c0",
   "metadata": {},
   "outputs": [],
   "source": [
    "X= covid_ec.drop(['Corona'],axis=1)\n",
    "y= covid_ec['Corona']"
   ]
  },
  {
   "cell_type": "markdown",
   "id": "103655b5",
   "metadata": {},
   "source": [
    "We designated the target variable as 'y' and assigned all the features to 'X'."
   ]
  },
  {
   "cell_type": "code",
   "execution_count": 38,
   "id": "8c98f99a",
   "metadata": {},
   "outputs": [],
   "source": [
    "from sklearn.model_selection import train_test_split\n",
    "\n",
    "X_train, X_test, y_train, y_test = train_test_split(X, y, test_size = 0.3, random_state = 0)"
   ]
  },
  {
   "cell_type": "code",
   "execution_count": 39,
   "id": "4d757211",
   "metadata": {},
   "outputs": [
    {
     "name": "stdout",
     "output_type": "stream",
     "text": [
      "Shape of X_train data: (192291, 8)\n",
      "Shape of X_test data: (82411, 8)\n",
      "Shape of y_train data: (192291,)\n",
      "Shape of y_test data: (82411,)\n"
     ]
    }
   ],
   "source": [
    "print(\"Shape of X_train data:\", X_train.shape)\n",
    "print(\"Shape of X_test data:\", X_test.shape)\n",
    "print(\"Shape of y_train data:\", y_train.shape)\n",
    "print(\"Shape of y_test data:\", y_test.shape)"
   ]
  },
  {
   "cell_type": "markdown",
   "id": "7fcb3d9b",
   "metadata": {},
   "source": [
    "We divided the independent variables (X) and dependent variables (y) into training and test sets, allocating 70% of the data for training and 30% for testing. The model will be constructed using the training data, and its performance will be assessed using the test data."
   ]
  },
  {
   "cell_type": "markdown",
   "id": "f26226fd",
   "metadata": {},
   "source": [
    "### Fearture Scaling"
   ]
  },
  {
   "cell_type": "code",
   "execution_count": 40,
   "id": "2e8ab180",
   "metadata": {},
   "outputs": [
    {
     "data": {
      "text/plain": [
       "array([[-0.42225229, -0.29036717, -0.08389638, ...,  0.55464632,\n",
       "         0.98641836,  0.37088043],\n",
       "       [-0.42225229, -0.29036717, -0.08389638, ...,  0.55464632,\n",
       "         0.98641836,  0.37088043],\n",
       "       [-0.42225229, -0.29036717, -0.08389638, ...,  0.55464632,\n",
       "         0.98641836,  0.37088043],\n",
       "       ...,\n",
       "       [ 2.3682524 , -0.29036717, -0.08389638, ..., -0.99762555,\n",
       "        -0.64068327,  0.37088043],\n",
       "       [-0.42225229, -0.29036717, -0.08389638, ..., -0.99762555,\n",
       "        -0.64068327,  0.37088043],\n",
       "       [ 2.3682524 , -0.29036717, -0.08389638, ..., -0.99762555,\n",
       "        -0.64068327, -1.30815357]])"
      ]
     },
     "execution_count": 40,
     "metadata": {},
     "output_type": "execute_result"
    }
   ],
   "source": [
    "# performing Z-Score Standardization (Standardization) technique\n",
    "from sklearn.preprocessing import StandardScaler\n",
    "\n",
    "sc = StandardScaler()\n",
    "X_train=sc.fit_transform(X_train)\n",
    "X_train"
   ]
  },
  {
   "cell_type": "code",
   "execution_count": 41,
   "id": "f68ac0f9",
   "metadata": {},
   "outputs": [
    {
     "data": {
      "text/plain": [
       "array([[-0.42225229, -0.29036717, -0.08389638, ...,  0.55464632,\n",
       "         0.98641836,  0.37088043],\n",
       "       [-0.42225229, -0.29036717, -0.08389638, ..., -0.99762555,\n",
       "         0.98641836,  0.37088043],\n",
       "       [ 2.3682524 ,  3.44391547, 11.91946562, ..., -0.99762555,\n",
       "         0.98641836, -1.30815357],\n",
       "       ...,\n",
       "       [-0.42225229, -0.29036717, -0.08389638, ...,  2.1069182 ,\n",
       "        -0.64068327,  0.37088043],\n",
       "       [-0.42225229, -0.29036717, -0.08389638, ..., -0.99762555,\n",
       "         0.98641836,  0.37088043],\n",
       "       [-0.42225229, -0.29036717, -0.08389638, ...,  0.55464632,\n",
       "         0.98641836,  0.37088043]])"
      ]
     },
     "execution_count": 41,
     "metadata": {},
     "output_type": "execute_result"
    }
   ],
   "source": [
    "X_test=sc.transform(X_test)\n",
    "X_test"
   ]
  },
  {
   "cell_type": "markdown",
   "id": "0f5ff313",
   "metadata": {},
   "source": [
    "We have applied Z-Score Standardization (also known as Standardization) to both the X_train and X_test datasets. By standardizing the features, the data is transformed to have a mean of 0 and a standard deviation of 1.\n",
    "\n",
    "This standardization allows models to learn the data more effectively, ensuring that no particular feature dominates the learning process due to its larger scale."
   ]
  },
  {
   "cell_type": "markdown",
   "id": "72b53a11",
   "metadata": {},
   "source": [
    "### Model Building"
   ]
  },
  {
   "cell_type": "markdown",
   "id": "8fd5a58f",
   "metadata": {},
   "source": [
    "#### Logistic Regression"
   ]
  },
  {
   "cell_type": "code",
   "execution_count": 42,
   "id": "4a15ce85",
   "metadata": {},
   "outputs": [
    {
     "data": {
      "text/html": [
       "<style>#sk-container-id-1 {color: black;background-color: white;}#sk-container-id-1 pre{padding: 0;}#sk-container-id-1 div.sk-toggleable {background-color: white;}#sk-container-id-1 label.sk-toggleable__label {cursor: pointer;display: block;width: 100%;margin-bottom: 0;padding: 0.3em;box-sizing: border-box;text-align: center;}#sk-container-id-1 label.sk-toggleable__label-arrow:before {content: \"▸\";float: left;margin-right: 0.25em;color: #696969;}#sk-container-id-1 label.sk-toggleable__label-arrow:hover:before {color: black;}#sk-container-id-1 div.sk-estimator:hover label.sk-toggleable__label-arrow:before {color: black;}#sk-container-id-1 div.sk-toggleable__content {max-height: 0;max-width: 0;overflow: hidden;text-align: left;background-color: #f0f8ff;}#sk-container-id-1 div.sk-toggleable__content pre {margin: 0.2em;color: black;border-radius: 0.25em;background-color: #f0f8ff;}#sk-container-id-1 input.sk-toggleable__control:checked~div.sk-toggleable__content {max-height: 200px;max-width: 100%;overflow: auto;}#sk-container-id-1 input.sk-toggleable__control:checked~label.sk-toggleable__label-arrow:before {content: \"▾\";}#sk-container-id-1 div.sk-estimator input.sk-toggleable__control:checked~label.sk-toggleable__label {background-color: #d4ebff;}#sk-container-id-1 div.sk-label input.sk-toggleable__control:checked~label.sk-toggleable__label {background-color: #d4ebff;}#sk-container-id-1 input.sk-hidden--visually {border: 0;clip: rect(1px 1px 1px 1px);clip: rect(1px, 1px, 1px, 1px);height: 1px;margin: -1px;overflow: hidden;padding: 0;position: absolute;width: 1px;}#sk-container-id-1 div.sk-estimator {font-family: monospace;background-color: #f0f8ff;border: 1px dotted black;border-radius: 0.25em;box-sizing: border-box;margin-bottom: 0.5em;}#sk-container-id-1 div.sk-estimator:hover {background-color: #d4ebff;}#sk-container-id-1 div.sk-parallel-item::after {content: \"\";width: 100%;border-bottom: 1px solid gray;flex-grow: 1;}#sk-container-id-1 div.sk-label:hover label.sk-toggleable__label {background-color: #d4ebff;}#sk-container-id-1 div.sk-serial::before {content: \"\";position: absolute;border-left: 1px solid gray;box-sizing: border-box;top: 0;bottom: 0;left: 50%;z-index: 0;}#sk-container-id-1 div.sk-serial {display: flex;flex-direction: column;align-items: center;background-color: white;padding-right: 0.2em;padding-left: 0.2em;position: relative;}#sk-container-id-1 div.sk-item {position: relative;z-index: 1;}#sk-container-id-1 div.sk-parallel {display: flex;align-items: stretch;justify-content: center;background-color: white;position: relative;}#sk-container-id-1 div.sk-item::before, #sk-container-id-1 div.sk-parallel-item::before {content: \"\";position: absolute;border-left: 1px solid gray;box-sizing: border-box;top: 0;bottom: 0;left: 50%;z-index: -1;}#sk-container-id-1 div.sk-parallel-item {display: flex;flex-direction: column;z-index: 1;position: relative;background-color: white;}#sk-container-id-1 div.sk-parallel-item:first-child::after {align-self: flex-end;width: 50%;}#sk-container-id-1 div.sk-parallel-item:last-child::after {align-self: flex-start;width: 50%;}#sk-container-id-1 div.sk-parallel-item:only-child::after {width: 0;}#sk-container-id-1 div.sk-dashed-wrapped {border: 1px dashed gray;margin: 0 0.4em 0.5em 0.4em;box-sizing: border-box;padding-bottom: 0.4em;background-color: white;}#sk-container-id-1 div.sk-label label {font-family: monospace;font-weight: bold;display: inline-block;line-height: 1.2em;}#sk-container-id-1 div.sk-label-container {text-align: center;}#sk-container-id-1 div.sk-container {/* jupyter's `normalize.less` sets `[hidden] { display: none; }` but bootstrap.min.css set `[hidden] { display: none !important; }` so we also need the `!important` here to be able to override the default hidden behavior on the sphinx rendered scikit-learn.org. See: https://github.com/scikit-learn/scikit-learn/issues/21755 */display: inline-block !important;position: relative;}#sk-container-id-1 div.sk-text-repr-fallback {display: none;}</style><div id=\"sk-container-id-1\" class=\"sk-top-container\"><div class=\"sk-text-repr-fallback\"><pre>LogisticRegression(random_state=0)</pre><b>In a Jupyter environment, please rerun this cell to show the HTML representation or trust the notebook. <br />On GitHub, the HTML representation is unable to render, please try loading this page with nbviewer.org.</b></div><div class=\"sk-container\" hidden><div class=\"sk-item\"><div class=\"sk-estimator sk-toggleable\"><input class=\"sk-toggleable__control sk-hidden--visually\" id=\"sk-estimator-id-1\" type=\"checkbox\" checked><label for=\"sk-estimator-id-1\" class=\"sk-toggleable__label sk-toggleable__label-arrow\">LogisticRegression</label><div class=\"sk-toggleable__content\"><pre>LogisticRegression(random_state=0)</pre></div></div></div></div></div>"
      ],
      "text/plain": [
       "LogisticRegression(random_state=0)"
      ]
     },
     "execution_count": 42,
     "metadata": {},
     "output_type": "execute_result"
    }
   ],
   "source": [
    "logistic_reg = LogisticRegression(random_state = 0)\n",
    "logistic_reg.fit(X_train, y_train)"
   ]
  },
  {
   "cell_type": "code",
   "execution_count": 43,
   "id": "4b142d6e",
   "metadata": {},
   "outputs": [
    {
     "name": "stdout",
     "output_type": "stream",
     "text": [
      "Coefficients:  [[ 0.0724824   0.35521601  0.27122292  0.22562449  0.4382623  -0.07898069\n",
      "   0.13508039 -0.33935847]]\n"
     ]
    }
   ],
   "source": [
    "# regression coefficients\n",
    "print('Coefficients: ', logistic_reg.coef_)"
   ]
  },
  {
   "cell_type": "markdown",
   "id": "ae5ec78b",
   "metadata": {},
   "source": [
    "Each value in the array corresponds to the coefficient of the respective feature in the dataset. These coefficients explain how each feature influences the likelihood of a patient being diagnosed with COVID-19 or not."
   ]
  },
  {
   "cell_type": "code",
   "execution_count": 44,
   "id": "52f6cd09",
   "metadata": {},
   "outputs": [
    {
     "data": {
      "text/plain": [
       "array([0., 0., 1., ..., 0., 0., 0.])"
      ]
     },
     "execution_count": 44,
     "metadata": {},
     "output_type": "execute_result"
    }
   ],
   "source": [
    "y_pred_lr = logistic_reg.predict(X_test)\n",
    "y_pred_lr"
   ]
  },
  {
   "cell_type": "markdown",
   "id": "e17c2cd6",
   "metadata": {},
   "source": [
    "The logistic regression model predicted the first and second patients in the test data as COVID-19 negative (0), the third patient as COVID-19 positive (1), and so on."
   ]
  },
  {
   "cell_type": "code",
   "execution_count": 45,
   "id": "39399419",
   "metadata": {},
   "outputs": [
    {
     "name": "stdout",
     "output_type": "stream",
     "text": [
      "Accuracy:  0.9567290774289839\n",
      "Confusion Matrix\n",
      "[[77818   156]\n",
      " [ 3410  1027]]\n",
      "Classification Report\n",
      "              precision    recall  f1-score   support\n",
      "\n",
      "         0.0       0.96      1.00      0.98     77974\n",
      "         1.0       0.87      0.23      0.37      4437\n",
      "\n",
      "    accuracy                           0.96     82411\n",
      "   macro avg       0.91      0.61      0.67     82411\n",
      "weighted avg       0.95      0.96      0.94     82411\n",
      "\n"
     ]
    }
   ],
   "source": [
    "cm = confusion_matrix(y_test, y_pred_lr)\n",
    "Accuracy = accuracy_score(y_test, y_pred_lr)\n",
    "cr = classification_report(y_test, y_pred_lr)\n",
    "\n",
    "print(\"Accuracy: \", Accuracy)\n",
    "print(\"Confusion Matrix\")\n",
    "print(cm)\n",
    "print(\"Classification Report\")\n",
    "print(cr)"
   ]
  },
  {
   "cell_type": "markdown",
   "id": "85e04dc4",
   "metadata": {},
   "source": [
    "From the above output we can see that, 95.67% of the patients have been predicted correctly by the Logistic Regression model."
   ]
  },
  {
   "cell_type": "code",
   "execution_count": 46,
   "id": "a8cb62ad",
   "metadata": {},
   "outputs": [
    {
     "data": {
      "text/plain": [
       "Text(33.0, 0.5, 'Actual')"
      ]
     },
     "execution_count": 46,
     "metadata": {},
     "output_type": "execute_result"
    },
    {
     "data": {
      "image/png": "[encoded data removed]",
      "text/plain": [
       "<Figure size 432x288 with 2 Axes>"
      ]
     },
     "metadata": {
      "needs_background": "light"
     },
     "output_type": "display_data"
    }
   ],
   "source": [
    "sns.heatmap(cm, annot=True, fmt='d', cmap='Blues')\n",
    "plt.xlabel('Predicted', fontsize = 14)\n",
    "plt.ylabel('Actual', fontsize = 14)"
   ]
  },
  {
   "cell_type": "markdown",
   "id": "1530f566",
   "metadata": {},
   "source": [
    "As per the Confusion Matrix, 77818 patients has correctly predicted as positive, 1027 patients has correctly predicted as negative, 156 patients incorrectly predicted as positive and 3410 patients incorrectly predicted as negative."
   ]
  },
  {
   "cell_type": "markdown",
   "id": "683ea239",
   "metadata": {},
   "source": [
    "##### Cross-Validation"
   ]
  },
  {
   "cell_type": "code",
   "execution_count": 47,
   "id": "eb994c98",
   "metadata": {},
   "outputs": [
    {
     "name": "stdout",
     "output_type": "stream",
     "text": [
      "Cross-validation scores for Train Data:\n",
      "[0.9575912  0.95707005 0.95727807 0.95813615 0.95681003]\n",
      "Cross-validation scores for Test Data:\n",
      "[0.95595462 0.95607329 0.9569227  0.95643733 0.95771144]\n"
     ]
    }
   ],
   "source": [
    "# Perform k-fold cross-validation (e.g., 5-fold cross-validation)\n",
    "k = 5\n",
    "scores_train = cross_val_score(logistic_reg, X_train, y_train, cv=k)\n",
    "scores_test = cross_val_score(logistic_reg, X_test, y_test, cv=k)\n",
    "\n",
    "# Calculate the mean and standard deviation of the scores\n",
    "mean_score_train = np.mean(scores_train)\n",
    "std_score_train = np.std(scores_train)\n",
    "mean_score_test = np.mean(scores_test)\n",
    "std_score_test = np.std(scores_test)\n",
    "\n",
    "# Print the scores\n",
    "print(\"Cross-validation scores for Train Data:\")\n",
    "print(scores_train)\n",
    "print(\"Cross-validation scores for Test Data:\")\n",
    "print(scores_test)"
   ]
  },
  {
   "cell_type": "markdown",
   "id": "628901ae",
   "metadata": {},
   "source": [
    "Using 5-fold cross-validation, we cross-validated the model for both training and test data. The accuracy of each fold can be observed from the output above."
   ]
  },
  {
   "cell_type": "code",
   "execution_count": 48,
   "id": "0609dd13",
   "metadata": {},
   "outputs": [
    {
     "name": "stdout",
     "output_type": "stream",
     "text": [
      "Mean accuracy for Train Data: 0.96\n",
      "Standard deviation for Train Data: 0.00\n",
      "Mean accuracy for Test Data: 0.96\n",
      "Standard deviation for Test Data: 0.00\n"
     ]
    }
   ],
   "source": [
    "print(f\"Mean accuracy for Train Data: {mean_score_train:.2f}\")\n",
    "print(f\"Standard deviation for Train Data: {std_score_train:.2f}\")\n",
    "print(f\"Mean accuracy for Test Data: {mean_score_test:.2f}\")\n",
    "print(f\"Standard deviation for Test Data: {std_score_test:.2f}\")"
   ]
  },
  {
   "cell_type": "code",
   "execution_count": 49,
   "id": "cc3d479b",
   "metadata": {},
   "outputs": [
    {
     "data": {
      "image/png": "[encoded data removed]",
      "text/plain": [
       "<Figure size 576x432 with 1 Axes>"
      ]
     },
     "metadata": {
      "needs_background": "light"
     },
     "output_type": "display_data"
    }
   ],
   "source": [
    "fpr, tpr, thresholds = roc_curve(y_test, y_pred_lr)\n",
    "\n",
    "#Calculate the area under the curve(AUC)\n",
    "roc_auc = auc(fpr, tpr)\n",
    "\n",
    "#plot ROC Curve\n",
    "plt.figure(figsize = (8,6))\n",
    "plt.plot(fpr, tpr, color = 'red', lw = 2, label = 'ROC Curve (AUC = %0.2f)'% roc_auc)\n",
    "plt.plot([0,1], [0,1], color = 'blue', lw = 2, linestyle = '--')\n",
    "plt.xlabel('False Positive Rate')\n",
    "plt.ylabel('True Positive Rate')\n",
    "plt.title('Receiver Operating Characteristic (ROC)')\n",
    "plt.legend(loc = 'upper left')\n",
    "plt.show()"
   ]
  },
  {
   "cell_type": "markdown",
   "id": "db84640e",
   "metadata": {},
   "source": [
    "1. The Receiver Operating Characteristic (ROC) curve is a graphical representation of a classification model's performance across different thresholds. It plots the true positive rate (Sensitivity) against the false positive rate (1 - Specificity) for various threshold values.\n",
    "2. The above ROC curve where Area under the curve(AUC) is 0.61, indicating that the model has a moderate ability to differentiate between the positive and negative cases. But, this might not be sufficient for all applications."
   ]
  },
  {
   "cell_type": "markdown",
   "id": "a18b4428",
   "metadata": {},
   "source": [
    "#### Decision Tree"
   ]
  },
  {
   "cell_type": "code",
   "execution_count": 50,
   "id": "a3d710f9",
   "metadata": {},
   "outputs": [
    {
     "data": {
      "text/html": [
       "<style>#sk-container-id-2 {color: black;background-color: white;}#sk-container-id-2 pre{padding: 0;}#sk-container-id-2 div.sk-toggleable {background-color: white;}#sk-container-id-2 label.sk-toggleable__label {cursor: pointer;display: block;width: 100%;margin-bottom: 0;padding: 0.3em;box-sizing: border-box;text-align: center;}#sk-container-id-2 label.sk-toggleable__label-arrow:before {content: \"▸\";float: left;margin-right: 0.25em;color: #696969;}#sk-container-id-2 label.sk-toggleable__label-arrow:hover:before {color: black;}#sk-container-id-2 div.sk-estimator:hover label.sk-toggleable__label-arrow:before {color: black;}#sk-container-id-2 div.sk-toggleable__content {max-height: 0;max-width: 0;overflow: hidden;text-align: left;background-color: #f0f8ff;}#sk-container-id-2 div.sk-toggleable__content pre {margin: 0.2em;color: black;border-radius: 0.25em;background-color: #f0f8ff;}#sk-container-id-2 input.sk-toggleable__control:checked~div.sk-toggleable__content {max-height: 200px;max-width: 100%;overflow: auto;}#sk-container-id-2 input.sk-toggleable__control:checked~label.sk-toggleable__label-arrow:before {content: \"▾\";}#sk-container-id-2 div.sk-estimator input.sk-toggleable__control:checked~label.sk-toggleable__label {background-color: #d4ebff;}#sk-container-id-2 div.sk-label input.sk-toggleable__control:checked~label.sk-toggleable__label {background-color: #d4ebff;}#sk-container-id-2 input.sk-hidden--visually {border: 0;clip: rect(1px 1px 1px 1px);clip: rect(1px, 1px, 1px, 1px);height: 1px;margin: -1px;overflow: hidden;padding: 0;position: absolute;width: 1px;}#sk-container-id-2 div.sk-estimator {font-family: monospace;background-color: #f0f8ff;border: 1px dotted black;border-radius: 0.25em;box-sizing: border-box;margin-bottom: 0.5em;}#sk-container-id-2 div.sk-estimator:hover {background-color: #d4ebff;}#sk-container-id-2 div.sk-parallel-item::after {content: \"\";width: 100%;border-bottom: 1px solid gray;flex-grow: 1;}#sk-container-id-2 div.sk-label:hover label.sk-toggleable__label {background-color: #d4ebff;}#sk-container-id-2 div.sk-serial::before {content: \"\";position: absolute;border-left: 1px solid gray;box-sizing: border-box;top: 0;bottom: 0;left: 50%;z-index: 0;}#sk-container-id-2 div.sk-serial {display: flex;flex-direction: column;align-items: center;background-color: white;padding-right: 0.2em;padding-left: 0.2em;position: relative;}#sk-container-id-2 div.sk-item {position: relative;z-index: 1;}#sk-container-id-2 div.sk-parallel {display: flex;align-items: stretch;justify-content: center;background-color: white;position: relative;}#sk-container-id-2 div.sk-item::before, #sk-container-id-2 div.sk-parallel-item::before {content: \"\";position: absolute;border-left: 1px solid gray;box-sizing: border-box;top: 0;bottom: 0;left: 50%;z-index: -1;}#sk-container-id-2 div.sk-parallel-item {display: flex;flex-direction: column;z-index: 1;position: relative;background-color: white;}#sk-container-id-2 div.sk-parallel-item:first-child::after {align-self: flex-end;width: 50%;}#sk-container-id-2 div.sk-parallel-item:last-child::after {align-self: flex-start;width: 50%;}#sk-container-id-2 div.sk-parallel-item:only-child::after {width: 0;}#sk-container-id-2 div.sk-dashed-wrapped {border: 1px dashed gray;margin: 0 0.4em 0.5em 0.4em;box-sizing: border-box;padding-bottom: 0.4em;background-color: white;}#sk-container-id-2 div.sk-label label {font-family: monospace;font-weight: bold;display: inline-block;line-height: 1.2em;}#sk-container-id-2 div.sk-label-container {text-align: center;}#sk-container-id-2 div.sk-container {/* jupyter's `normalize.less` sets `[hidden] { display: none; }` but bootstrap.min.css set `[hidden] { display: none !important; }` so we also need the `!important` here to be able to override the default hidden behavior on the sphinx rendered scikit-learn.org. See: https://github.com/scikit-learn/scikit-learn/issues/21755 */display: inline-block !important;position: relative;}#sk-container-id-2 div.sk-text-repr-fallback {display: none;}</style><div id=\"sk-container-id-2\" class=\"sk-top-container\"><div class=\"sk-text-repr-fallback\"><pre>DecisionTreeClassifier()</pre><b>In a Jupyter environment, please rerun this cell to show the HTML representation or trust the notebook. <br />On GitHub, the HTML representation is unable to render, please try loading this page with nbviewer.org.</b></div><div class=\"sk-container\" hidden><div class=\"sk-item\"><div class=\"sk-estimator sk-toggleable\"><input class=\"sk-toggleable__control sk-hidden--visually\" id=\"sk-estimator-id-2\" type=\"checkbox\" checked><label for=\"sk-estimator-id-2\" class=\"sk-toggleable__label sk-toggleable__label-arrow\">DecisionTreeClassifier</label><div class=\"sk-toggleable__content\"><pre>DecisionTreeClassifier()</pre></div></div></div></div></div>"
      ],
      "text/plain": [
       "DecisionTreeClassifier()"
      ]
     },
     "execution_count": 50,
     "metadata": {},
     "output_type": "execute_result"
    }
   ],
   "source": [
    "# decision tree classification without rescaled\n",
    "DecisionTree = DecisionTreeClassifier()\n",
    "DecisionTree.fit(X_train, y_train)"
   ]
  },
  {
   "cell_type": "code",
   "execution_count": 51,
   "id": "3656980b",
   "metadata": {},
   "outputs": [
    {
     "data": {
      "text/plain": [
       "array([0., 0., 1., ..., 0., 0., 0.])"
      ]
     },
     "execution_count": 51,
     "metadata": {},
     "output_type": "execute_result"
    }
   ],
   "source": [
    "y_pred_dt = DecisionTree.predict(X_test)\n",
    "y_pred_dt"
   ]
  },
  {
   "cell_type": "code",
   "execution_count": 52,
   "id": "57f5224a",
   "metadata": {},
   "outputs": [
    {
     "name": "stdout",
     "output_type": "stream",
     "text": [
      "Accuracy:  0.968996857215663\n",
      "Confusion Matrix\n",
      "[[77354   620]\n",
      " [ 1935  2502]]\n",
      "Classification Report\n",
      "              precision    recall  f1-score   support\n",
      "\n",
      "         0.0       0.98      0.99      0.98     77974\n",
      "         1.0       0.80      0.56      0.66      4437\n",
      "\n",
      "    accuracy                           0.97     82411\n",
      "   macro avg       0.89      0.78      0.82     82411\n",
      "weighted avg       0.97      0.97      0.97     82411\n",
      "\n"
     ]
    }
   ],
   "source": [
    "cm = confusion_matrix(y_test, y_pred_dt)\n",
    "Accuracy = accuracy_score(y_test, y_pred_dt)\n",
    "cr = classification_report(y_test, y_pred_dt)\n",
    "\n",
    "print(\"Accuracy: \", Accuracy)\n",
    "print(\"Confusion Matrix\")\n",
    "print(cm)\n",
    "print(\"Classification Report\")\n",
    "print(cr)"
   ]
  },
  {
   "cell_type": "markdown",
   "id": "c2e21d92",
   "metadata": {},
   "source": [
    "As per the accuracy, 96.9% of the patients have been predicted correctly by Decision Tree model."
   ]
  },
  {
   "cell_type": "code",
   "execution_count": 53,
   "id": "191284d1",
   "metadata": {},
   "outputs": [
    {
     "data": {
      "text/plain": [
       "Text(33.0, 0.5, 'Actual')"
      ]
     },
     "execution_count": 53,
     "metadata": {},
     "output_type": "execute_result"
    },
    {
     "data": {
      "image/png": "[encoded data removed]",
      "text/plain": [
       "<Figure size 432x288 with 2 Axes>"
      ]
     },
     "metadata": {
      "needs_background": "light"
     },
     "output_type": "display_data"
    }
   ],
   "source": [
    "sns.heatmap(cm, annot=True, fmt='d', cmap='Blues')\n",
    "plt.xlabel('Predicted', fontsize = 14)\n",
    "plt.ylabel('Actual', fontsize = 14)"
   ]
  },
  {
   "cell_type": "markdown",
   "id": "55337e17",
   "metadata": {},
   "source": [
    "From the Confusion Matrix we can see that, 77354 patients has correctly predicted as positive, 2501 patients has correctly predicted as negative, 620 patients incorrectly predicted as positive and 1936 patients incorrectly predicted as negative by the Decision Tree model."
   ]
  },
  {
   "cell_type": "markdown",
   "id": "9de5ec06",
   "metadata": {},
   "source": [
    "##### Cross-Validation"
   ]
  },
  {
   "cell_type": "code",
   "execution_count": 54,
   "id": "d2098942",
   "metadata": {},
   "outputs": [
    {
     "name": "stdout",
     "output_type": "stream",
     "text": [
      "Cross-validation scores for Train Data:\n",
      "[0.97103409 0.96965521 0.97046128 0.96897915 0.96962921]\n",
      "Cross-validation scores for Test Data:\n",
      "[0.96748165 0.96790438 0.96929984 0.96905715 0.96820774]\n"
     ]
    }
   ],
   "source": [
    "# Perform k-fold cross-validation (e.g., 5-fold cross-validation)\n",
    "k = 5\n",
    "scores_train = cross_val_score(DecisionTree, X_train, y_train, cv=k)\n",
    "scores_test = cross_val_score(DecisionTree, X_test, y_test, cv=k)\n",
    "\n",
    "# Calculate the mean and standard deviation of the scores\n",
    "mean_score_train = np.mean(scores_train)\n",
    "std_score_train = np.std(scores_train)\n",
    "mean_score_test = np.mean(scores_test)\n",
    "std_score_test = np.std(scores_test)\n",
    "\n",
    "# Print the scores\n",
    "print(\"Cross-validation scores for Train Data:\")\n",
    "print(scores_train)\n",
    "print(\"Cross-validation scores for Test Data:\")\n",
    "print(scores_test)"
   ]
  },
  {
   "cell_type": "markdown",
   "id": "50dd12ff",
   "metadata": {},
   "source": [
    "Using 5-fold cross-validation, we cross-validated the model for both training and test data. The accuracy of each fold are almost 96%."
   ]
  },
  {
   "cell_type": "code",
   "execution_count": 55,
   "id": "01f5b92e",
   "metadata": {},
   "outputs": [
    {
     "name": "stdout",
     "output_type": "stream",
     "text": [
      "Mean accuracy for Train Data: 0.97\n",
      "Standard deviation for Train Data: 0.00\n",
      "Mean accuracy for Test Data: 0.97\n",
      "Standard deviation for Test Data: 0.00\n"
     ]
    }
   ],
   "source": [
    "print(f\"Mean accuracy for Train Data: {mean_score_train:.2f}\")\n",
    "print(f\"Standard deviation for Train Data: {std_score_train:.2f}\")\n",
    "print(f\"Mean accuracy for Test Data: {mean_score_test:.2f}\")\n",
    "print(f\"Standard deviation for Test Data: {std_score_test:.2f}\")"
   ]
  },
  {
   "cell_type": "code",
   "execution_count": 56,
   "id": "7fe50a4b",
   "metadata": {},
   "outputs": [
    {
     "data": {
      "image/png": "[encoded data removed]",
      "text/plain": [
       "<Figure size 576x432 with 1 Axes>"
      ]
     },
     "metadata": {
      "needs_background": "light"
     },
     "output_type": "display_data"
    }
   ],
   "source": [
    "fpr, tpr, thresholds = roc_curve(y_test, y_pred_dt)\n",
    "\n",
    "#Calculate the area under the curve(AUC)\n",
    "roc_auc = auc(fpr, tpr)\n",
    "\n",
    "#plot ROC Curve\n",
    "plt.figure(figsize = (8,6))\n",
    "plt.plot(fpr, tpr, color = 'red', lw = 2, label = 'ROC Curve (area = %0.2f)'% roc_auc)\n",
    "plt.plot([0,1], [0,1], color = 'blue', lw = 2, linestyle = '--')\n",
    "plt.xlabel('False Positive Rate')\n",
    "plt.ylabel('True Positive Rate')\n",
    "plt.title('Receiver Operating Characteristic (ROC)')\n",
    "plt.legend(loc = 'upper left')\n",
    "plt.show()"
   ]
  },
  {
   "cell_type": "markdown",
   "id": "fb0d60ad",
   "metadata": {},
   "source": [
    "1. An AUC of 0.78 suggests that the Decision Tree model has a 78% chance of correctly distinguishing between positive and negative cases. The ROC curve visually represents this performance, with a higher curve indicating a better ability to classify the two classes."
   ]
  },
  {
   "cell_type": "markdown",
   "id": "6f5da627",
   "metadata": {},
   "source": [
    "#### Random Forest"
   ]
  },
  {
   "cell_type": "code",
   "execution_count": 57,
   "id": "a1b80b9e",
   "metadata": {},
   "outputs": [
    {
     "data": {
      "text/html": [
       "<style>#sk-container-id-3 {color: black;background-color: white;}#sk-container-id-3 pre{padding: 0;}#sk-container-id-3 div.sk-toggleable {background-color: white;}#sk-container-id-3 label.sk-toggleable__label {cursor: pointer;display: block;width: 100%;margin-bottom: 0;padding: 0.3em;box-sizing: border-box;text-align: center;}#sk-container-id-3 label.sk-toggleable__label-arrow:before {content: \"▸\";float: left;margin-right: 0.25em;color: #696969;}#sk-container-id-3 label.sk-toggleable__label-arrow:hover:before {color: black;}#sk-container-id-3 div.sk-estimator:hover label.sk-toggleable__label-arrow:before {color: black;}#sk-container-id-3 div.sk-toggleable__content {max-height: 0;max-width: 0;overflow: hidden;text-align: left;background-color: #f0f8ff;}#sk-container-id-3 div.sk-toggleable__content pre {margin: 0.2em;color: black;border-radius: 0.25em;background-color: #f0f8ff;}#sk-container-id-3 input.sk-toggleable__control:checked~div.sk-toggleable__content {max-height: 200px;max-width: 100%;overflow: auto;}#sk-container-id-3 input.sk-toggleable__control:checked~label.sk-toggleable__label-arrow:before {content: \"▾\";}#sk-container-id-3 div.sk-estimator input.sk-toggleable__control:checked~label.sk-toggleable__label {background-color: #d4ebff;}#sk-container-id-3 div.sk-label input.sk-toggleable__control:checked~label.sk-toggleable__label {background-color: #d4ebff;}#sk-container-id-3 input.sk-hidden--visually {border: 0;clip: rect(1px 1px 1px 1px);clip: rect(1px, 1px, 1px, 1px);height: 1px;margin: -1px;overflow: hidden;padding: 0;position: absolute;width: 1px;}#sk-container-id-3 div.sk-estimator {font-family: monospace;background-color: #f0f8ff;border: 1px dotted black;border-radius: 0.25em;box-sizing: border-box;margin-bottom: 0.5em;}#sk-container-id-3 div.sk-estimator:hover {background-color: #d4ebff;}#sk-container-id-3 div.sk-parallel-item::after {content: \"\";width: 100%;border-bottom: 1px solid gray;flex-grow: 1;}#sk-container-id-3 div.sk-label:hover label.sk-toggleable__label {background-color: #d4ebff;}#sk-container-id-3 div.sk-serial::before {content: \"\";position: absolute;border-left: 1px solid gray;box-sizing: border-box;top: 0;bottom: 0;left: 50%;z-index: 0;}#sk-container-id-3 div.sk-serial {display: flex;flex-direction: column;align-items: center;background-color: white;padding-right: 0.2em;padding-left: 0.2em;position: relative;}#sk-container-id-3 div.sk-item {position: relative;z-index: 1;}#sk-container-id-3 div.sk-parallel {display: flex;align-items: stretch;justify-content: center;background-color: white;position: relative;}#sk-container-id-3 div.sk-item::before, #sk-container-id-3 div.sk-parallel-item::before {content: \"\";position: absolute;border-left: 1px solid gray;box-sizing: border-box;top: 0;bottom: 0;left: 50%;z-index: -1;}#sk-container-id-3 div.sk-parallel-item {display: flex;flex-direction: column;z-index: 1;position: relative;background-color: white;}#sk-container-id-3 div.sk-parallel-item:first-child::after {align-self: flex-end;width: 50%;}#sk-container-id-3 div.sk-parallel-item:last-child::after {align-self: flex-start;width: 50%;}#sk-container-id-3 div.sk-parallel-item:only-child::after {width: 0;}#sk-container-id-3 div.sk-dashed-wrapped {border: 1px dashed gray;margin: 0 0.4em 0.5em 0.4em;box-sizing: border-box;padding-bottom: 0.4em;background-color: white;}#sk-container-id-3 div.sk-label label {font-family: monospace;font-weight: bold;display: inline-block;line-height: 1.2em;}#sk-container-id-3 div.sk-label-container {text-align: center;}#sk-container-id-3 div.sk-container {/* jupyter's `normalize.less` sets `[hidden] { display: none; }` but bootstrap.min.css set `[hidden] { display: none !important; }` so we also need the `!important` here to be able to override the default hidden behavior on the sphinx rendered scikit-learn.org. See: https://github.com/scikit-learn/scikit-learn/issues/21755 */display: inline-block !important;position: relative;}#sk-container-id-3 div.sk-text-repr-fallback {display: none;}</style><div id=\"sk-container-id-3\" class=\"sk-top-container\"><div class=\"sk-text-repr-fallback\"><pre>RandomForestClassifier()</pre><b>In a Jupyter environment, please rerun this cell to show the HTML representation or trust the notebook. <br />On GitHub, the HTML representation is unable to render, please try loading this page with nbviewer.org.</b></div><div class=\"sk-container\" hidden><div class=\"sk-item\"><div class=\"sk-estimator sk-toggleable\"><input class=\"sk-toggleable__control sk-hidden--visually\" id=\"sk-estimator-id-3\" type=\"checkbox\" checked><label for=\"sk-estimator-id-3\" class=\"sk-toggleable__label sk-toggleable__label-arrow\">RandomForestClassifier</label><div class=\"sk-toggleable__content\"><pre>RandomForestClassifier()</pre></div></div></div></div></div>"
      ],
      "text/plain": [
       "RandomForestClassifier()"
      ]
     },
     "execution_count": 57,
     "metadata": {},
     "output_type": "execute_result"
    }
   ],
   "source": [
    "rf = RandomForestClassifier()\n",
    "rf.fit(X_train,y_train)"
   ]
  },
  {
   "cell_type": "code",
   "execution_count": 58,
   "id": "055133ea",
   "metadata": {},
   "outputs": [
    {
     "data": {
      "text/plain": [
       "array([0., 0., 1., ..., 0., 0., 0.])"
      ]
     },
     "execution_count": 58,
     "metadata": {},
     "output_type": "execute_result"
    }
   ],
   "source": [
    "y_pred_rf = rf.predict(X_test)\n",
    "y_pred_rf"
   ]
  },
  {
   "cell_type": "code",
   "execution_count": 59,
   "id": "b83389b7",
   "metadata": {},
   "outputs": [
    {
     "name": "stdout",
     "output_type": "stream",
     "text": [
      "Accuracy:  0.9691303345427188\n",
      "Confusion Matrix\n",
      "[[77350   624]\n",
      " [ 1920  2517]]\n",
      "Classification Report\n",
      "              precision    recall  f1-score   support\n",
      "\n",
      "         0.0       0.98      0.99      0.98     77974\n",
      "         1.0       0.80      0.57      0.66      4437\n",
      "\n",
      "    accuracy                           0.97     82411\n",
      "   macro avg       0.89      0.78      0.82     82411\n",
      "weighted avg       0.97      0.97      0.97     82411\n",
      "\n"
     ]
    }
   ],
   "source": [
    "cm = confusion_matrix(y_test, y_pred_rf)\n",
    "Accuracy = accuracy_score(y_test, y_pred_rf)\n",
    "cr = classification_report(y_test, y_pred_rf)\n",
    "\n",
    "print(\"Accuracy: \", Accuracy)\n",
    "print(\"Confusion Matrix\")\n",
    "print(cm)\n",
    "print(\"Classification Report\")\n",
    "print(cr)"
   ]
  },
  {
   "cell_type": "markdown",
   "id": "f265b5bb",
   "metadata": {},
   "source": [
    "With an accuracy of 96.91%, the Random Forest model has correctly predicted the diagnosis of patients."
   ]
  },
  {
   "cell_type": "code",
   "execution_count": 60,
   "id": "0e505472",
   "metadata": {},
   "outputs": [
    {
     "data": {
      "text/plain": [
       "Text(33.0, 0.5, 'Actual')"
      ]
     },
     "execution_count": 60,
     "metadata": {},
     "output_type": "execute_result"
    },
    {
     "data": {
      "image/png": "[encoded data removed]",
      "text/plain": [
       "<Figure size 432x288 with 2 Axes>"
      ]
     },
     "metadata": {
      "needs_background": "light"
     },
     "output_type": "display_data"
    }
   ],
   "source": [
    "sns.heatmap(cm, annot=True, fmt='d', cmap='Blues')\n",
    "plt.xlabel('Predicted', fontsize = 14)\n",
    "plt.ylabel('Actual', fontsize = 14)"
   ]
  },
  {
   "cell_type": "markdown",
   "id": "9ad50f7e",
   "metadata": {},
   "source": [
    "As per the Confusion Matrix, 77352 patients has correctly predicted as positive, 2517 patients has correctly predicted as negative, 622 patients incorrectly predicted as positive and 1920 patients incorrectly predicted as negative by the Random Forest model."
   ]
  },
  {
   "cell_type": "markdown",
   "id": "7da66246",
   "metadata": {},
   "source": [
    "##### Cross-Validation"
   ]
  },
  {
   "cell_type": "code",
   "execution_count": 61,
   "id": "f2cec317",
   "metadata": {},
   "outputs": [
    {
     "name": "stdout",
     "output_type": "stream",
     "text": [
      "Cross-validation scores for Train Data:\n",
      "[0.97087808 0.9696032  0.9706433  0.96921317 0.96975922]\n",
      "Cross-validation scores for Test Data:\n",
      "[0.96760298 0.96832909 0.96942119 0.96911783 0.96857178]\n"
     ]
    }
   ],
   "source": [
    "# Perform k-fold cross-validation (e.g., 5-fold cross-validation)\n",
    "k = 5\n",
    "scores_train = cross_val_score(rf, X_train, y_train, cv=k)\n",
    "scores_test = cross_val_score(rf, X_test, y_test, cv=k)\n",
    "\n",
    "# Calculate the mean and standard deviation of the scores\n",
    "mean_score_train = np.mean(scores_train)\n",
    "std_score_train = np.std(scores_train)\n",
    "mean_score_test = np.mean(scores_test)\n",
    "std_score_test = np.std(scores_test)\n",
    "\n",
    "# Print the scores\n",
    "print(\"Cross-validation scores for Train Data:\")\n",
    "print(scores_train)\n",
    "print(\"Cross-validation scores for Test Data:\")\n",
    "print(scores_test)"
   ]
  },
  {
   "cell_type": "markdown",
   "id": "3faf1163",
   "metadata": {},
   "source": [
    "Using 5-fold cross-validation, we cross-validated the model for both training and test data. The accuracy of each fold can be observed from the output above."
   ]
  },
  {
   "cell_type": "code",
   "execution_count": 62,
   "id": "9ac7c23c",
   "metadata": {},
   "outputs": [
    {
     "name": "stdout",
     "output_type": "stream",
     "text": [
      "Mean accuracy for Train Data: 0.97\n",
      "Standard deviation for Train Data: 0.00\n",
      "Mean accuracy for Test Data: 0.97\n",
      "Standard deviation for Test Data: 0.00\n"
     ]
    }
   ],
   "source": [
    "print(f\"Mean accuracy for Train Data: {mean_score_train:.2f}\")\n",
    "print(f\"Standard deviation for Train Data: {std_score_train:.2f}\")\n",
    "print(f\"Mean accuracy for Test Data: {mean_score_test:.2f}\")\n",
    "print(f\"Standard deviation for Test Data: {std_score_test:.2f}\")"
   ]
  },
  {
   "cell_type": "markdown",
   "id": "234ef41a",
   "metadata": {},
   "source": [
    "The model has secured a mean accuracy of 97% from the cross-validation for both train and test data."
   ]
  },
  {
   "cell_type": "code",
   "execution_count": 63,
   "id": "5a23c740",
   "metadata": {},
   "outputs": [
    {
     "data": {
      "image/png": "[encoded data removed]",
      "text/plain": [
       "<Figure size 576x432 with 1 Axes>"
      ]
     },
     "metadata": {
      "needs_background": "light"
     },
     "output_type": "display_data"
    }
   ],
   "source": [
    "fpr, tpr, thresholds = roc_curve(y_test, y_pred_rf)\n",
    "\n",
    "#Calculate the area under the curve(AUC)\n",
    "roc_auc = auc(fpr, tpr)\n",
    "\n",
    "#plot ROC Curve\n",
    "plt.figure(figsize = (8,6))\n",
    "plt.plot(fpr, tpr, color = 'red', lw = 2, label = 'ROC Curve (area = %0.2f)'% roc_auc)\n",
    "plt.plot([0,1], [0,1], color = 'blue', lw = 2, linestyle = '--')\n",
    "plt.xlabel('False Positive Rate')\n",
    "plt.ylabel('True Positive Rate')\n",
    "plt.title('Receiver Operating Characteristic (ROC)')\n",
    "plt.legend(loc = 'upper left')\n",
    "plt.show()"
   ]
  },
  {
   "cell_type": "markdown",
   "id": "196502b8",
   "metadata": {},
   "source": [
    "#### Support Vector Classifier"
   ]
  },
  {
   "cell_type": "code",
   "execution_count": 64,
   "id": "12461c07",
   "metadata": {},
   "outputs": [
    {
     "data": {
      "text/html": [
       "<style>#sk-container-id-4 {color: black;background-color: white;}#sk-container-id-4 pre{padding: 0;}#sk-container-id-4 div.sk-toggleable {background-color: white;}#sk-container-id-4 label.sk-toggleable__label {cursor: pointer;display: block;width: 100%;margin-bottom: 0;padding: 0.3em;box-sizing: border-box;text-align: center;}#sk-container-id-4 label.sk-toggleable__label-arrow:before {content: \"▸\";float: left;margin-right: 0.25em;color: #696969;}#sk-container-id-4 label.sk-toggleable__label-arrow:hover:before {color: black;}#sk-container-id-4 div.sk-estimator:hover label.sk-toggleable__label-arrow:before {color: black;}#sk-container-id-4 div.sk-toggleable__content {max-height: 0;max-width: 0;overflow: hidden;text-align: left;background-color: #f0f8ff;}#sk-container-id-4 div.sk-toggleable__content pre {margin: 0.2em;color: black;border-radius: 0.25em;background-color: #f0f8ff;}#sk-container-id-4 input.sk-toggleable__control:checked~div.sk-toggleable__content {max-height: 200px;max-width: 100%;overflow: auto;}#sk-container-id-4 input.sk-toggleable__control:checked~label.sk-toggleable__label-arrow:before {content: \"▾\";}#sk-container-id-4 div.sk-estimator input.sk-toggleable__control:checked~label.sk-toggleable__label {background-color: #d4ebff;}#sk-container-id-4 div.sk-label input.sk-toggleable__control:checked~label.sk-toggleable__label {background-color: #d4ebff;}#sk-container-id-4 input.sk-hidden--visually {border: 0;clip: rect(1px 1px 1px 1px);clip: rect(1px, 1px, 1px, 1px);height: 1px;margin: -1px;overflow: hidden;padding: 0;position: absolute;width: 1px;}#sk-container-id-4 div.sk-estimator {font-family: monospace;background-color: #f0f8ff;border: 1px dotted black;border-radius: 0.25em;box-sizing: border-box;margin-bottom: 0.5em;}#sk-container-id-4 div.sk-estimator:hover {background-color: #d4ebff;}#sk-container-id-4 div.sk-parallel-item::after {content: \"\";width: 100%;border-bottom: 1px solid gray;flex-grow: 1;}#sk-container-id-4 div.sk-label:hover label.sk-toggleable__label {background-color: #d4ebff;}#sk-container-id-4 div.sk-serial::before {content: \"\";position: absolute;border-left: 1px solid gray;box-sizing: border-box;top: 0;bottom: 0;left: 50%;z-index: 0;}#sk-container-id-4 div.sk-serial {display: flex;flex-direction: column;align-items: center;background-color: white;padding-right: 0.2em;padding-left: 0.2em;position: relative;}#sk-container-id-4 div.sk-item {position: relative;z-index: 1;}#sk-container-id-4 div.sk-parallel {display: flex;align-items: stretch;justify-content: center;background-color: white;position: relative;}#sk-container-id-4 div.sk-item::before, #sk-container-id-4 div.sk-parallel-item::before {content: \"\";position: absolute;border-left: 1px solid gray;box-sizing: border-box;top: 0;bottom: 0;left: 50%;z-index: -1;}#sk-container-id-4 div.sk-parallel-item {display: flex;flex-direction: column;z-index: 1;position: relative;background-color: white;}#sk-container-id-4 div.sk-parallel-item:first-child::after {align-self: flex-end;width: 50%;}#sk-container-id-4 div.sk-parallel-item:last-child::after {align-self: flex-start;width: 50%;}#sk-container-id-4 div.sk-parallel-item:only-child::after {width: 0;}#sk-container-id-4 div.sk-dashed-wrapped {border: 1px dashed gray;margin: 0 0.4em 0.5em 0.4em;box-sizing: border-box;padding-bottom: 0.4em;background-color: white;}#sk-container-id-4 div.sk-label label {font-family: monospace;font-weight: bold;display: inline-block;line-height: 1.2em;}#sk-container-id-4 div.sk-label-container {text-align: center;}#sk-container-id-4 div.sk-container {/* jupyter's `normalize.less` sets `[hidden] { display: none; }` but bootstrap.min.css set `[hidden] { display: none !important; }` so we also need the `!important` here to be able to override the default hidden behavior on the sphinx rendered scikit-learn.org. See: https://github.com/scikit-learn/scikit-learn/issues/21755 */display: inline-block !important;position: relative;}#sk-container-id-4 div.sk-text-repr-fallback {display: none;}</style><div id=\"sk-container-id-4\" class=\"sk-top-container\"><div class=\"sk-text-repr-fallback\"><pre>SVC()</pre><b>In a Jupyter environment, please rerun this cell to show the HTML representation or trust the notebook. <br />On GitHub, the HTML representation is unable to render, please try loading this page with nbviewer.org.</b></div><div class=\"sk-container\" hidden><div class=\"sk-item\"><div class=\"sk-estimator sk-toggleable\"><input class=\"sk-toggleable__control sk-hidden--visually\" id=\"sk-estimator-id-4\" type=\"checkbox\" checked><label for=\"sk-estimator-id-4\" class=\"sk-toggleable__label sk-toggleable__label-arrow\">SVC</label><div class=\"sk-toggleable__content\"><pre>SVC()</pre></div></div></div></div></div>"
      ],
      "text/plain": [
       "SVC()"
      ]
     },
     "execution_count": 64,
     "metadata": {},
     "output_type": "execute_result"
    }
   ],
   "source": [
    "svm = SVC()\n",
    "svm.fit(X_train,y_train)"
   ]
  },
  {
   "cell_type": "code",
   "execution_count": 65,
   "id": "8405046e",
   "metadata": {},
   "outputs": [
    {
     "data": {
      "text/plain": [
       "array([0., 0., 1., ..., 0., 0., 0.])"
      ]
     },
     "execution_count": 65,
     "metadata": {},
     "output_type": "execute_result"
    }
   ],
   "source": [
    "# Make predictions on the test set\n",
    "y_pred_svm = svm.predict(X_test)\n",
    "y_pred_svm"
   ]
  },
  {
   "cell_type": "code",
   "execution_count": 66,
   "id": "1c69d071",
   "metadata": {},
   "outputs": [
    {
     "name": "stdout",
     "output_type": "stream",
     "text": [
      "Accuracy: 0.9688755141910668\n",
      "Confusion Matrix:\n",
      "[[77342   632]\n",
      " [ 1933  2504]]\n",
      "Classification Report:\n",
      "              precision    recall  f1-score   support\n",
      "\n",
      "         0.0       0.98      0.99      0.98     77974\n",
      "         1.0       0.80      0.56      0.66      4437\n",
      "\n",
      "    accuracy                           0.97     82411\n",
      "   macro avg       0.89      0.78      0.82     82411\n",
      "weighted avg       0.97      0.97      0.97     82411\n",
      "\n"
     ]
    }
   ],
   "source": [
    "# Calculate accuracy and print the classification report\n",
    "accuracy = accuracy_score(y_test, y_pred_svm)\n",
    "print(\"Accuracy:\", accuracy)\n",
    "\n",
    "cm = confusion_matrix(y_test, y_pred_svm)\n",
    "print(\"Confusion Matrix:\")\n",
    "print(cm)\n",
    "\n",
    "print(\"Classification Report:\")\n",
    "print(classification_report(y_test, y_pred_svm))"
   ]
  },
  {
   "cell_type": "markdown",
   "id": "a6bd79c4",
   "metadata": {},
   "source": [
    "With an accuracy of 96.89%, the SVM model has correctly predicted the diagnosis of patients."
   ]
  },
  {
   "cell_type": "code",
   "execution_count": 67,
   "id": "4e1ffa88",
   "metadata": {},
   "outputs": [
    {
     "data": {
      "text/plain": [
       "Text(33.0, 0.5, 'Actual')"
      ]
     },
     "execution_count": 67,
     "metadata": {},
     "output_type": "execute_result"
    },
    {
     "data": {
      "image/png": "[encoded data removed]",
      "text/plain": [
       "<Figure size 432x288 with 2 Axes>"
      ]
     },
     "metadata": {
      "needs_background": "light"
     },
     "output_type": "display_data"
    }
   ],
   "source": [
    "sns.heatmap(cm, annot=True, fmt='d', cmap='Blues')\n",
    "plt.xlabel('Predicted', fontsize = 14)\n",
    "plt.ylabel('Actual', fontsize = 14)"
   ]
  },
  {
   "cell_type": "markdown",
   "id": "c7e6ddd5",
   "metadata": {},
   "source": [
    "The Confusion Matrix shows that 77,342 patients were correctly predicted as positive, 2,504 patients were correctly predicted as negative, 632 patients were incorrectly predicted as positive, and 1,933 patients were incorrectly predicted as negative by the Support Vector Classifier."
   ]
  },
  {
   "cell_type": "markdown",
   "id": "73b0ed36",
   "metadata": {},
   "source": [
    "##### Cross-Validation"
   ]
  },
  {
   "cell_type": "code",
   "execution_count": 68,
   "id": "e0f35c1e",
   "metadata": {},
   "outputs": [
    {
     "name": "stdout",
     "output_type": "stream",
     "text": [
      "Cross-validation scores for Train Data:\n",
      "[0.97059206 0.96934318 0.9706693  0.96900515 0.96934318]\n",
      "Cross-validation scores for Test Data:\n",
      "[0.96857368 0.96845043 0.96942119 0.96887514 0.9685111 ]\n"
     ]
    }
   ],
   "source": [
    "# Perform k-fold cross-validation (e.g., 5-fold cross-validation)\n",
    "k = 5\n",
    "scores_train = cross_val_score(svm, X_train, y_train, cv=k)\n",
    "scores_test = cross_val_score(svm, X_test, y_test, cv=k)\n",
    "\n",
    "# Calculate the mean and standard deviation of the scores\n",
    "mean_score_train = np.mean(scores_train)\n",
    "std_score_train = np.std(scores_train)\n",
    "mean_score_test = np.mean(scores_test)\n",
    "std_score_test = np.std(scores_test)\n",
    "\n",
    "# Print the scores\n",
    "print(\"Cross-validation scores for Train Data:\")\n",
    "print(scores_train)\n",
    "print(\"Cross-validation scores for Test Data:\")\n",
    "print(scores_test)"
   ]
  },
  {
   "cell_type": "markdown",
   "id": "418915c3",
   "metadata": {},
   "source": [
    "After performing 5-fold cross-validation, the model is still achieving almost 96% of accuracy in each fold."
   ]
  },
  {
   "cell_type": "code",
   "execution_count": 69,
   "id": "156dc3ff",
   "metadata": {},
   "outputs": [
    {
     "name": "stdout",
     "output_type": "stream",
     "text": [
      "Mean accuracy for Train Data: 0.97\n",
      "Standard deviation for Train Data: 0.00\n",
      "Mean accuracy for Test Data: 0.97\n",
      "Standard deviation for Test Data: 0.00\n"
     ]
    }
   ],
   "source": [
    "print(f\"Mean accuracy for Train Data: {mean_score_train:.2f}\")\n",
    "print(f\"Standard deviation for Train Data: {std_score_train:.2f}\")\n",
    "print(f\"Mean accuracy for Test Data: {mean_score_test:.2f}\")\n",
    "print(f\"Standard deviation for Test Data: {std_score_test:.2f}\")"
   ]
  },
  {
   "cell_type": "code",
   "execution_count": 70,
   "id": "1c9bfdad",
   "metadata": {},
   "outputs": [
    {
     "data": {
      "image/png": "[encoded data removed]",
      "text/plain": [
       "<Figure size 576x432 with 1 Axes>"
      ]
     },
     "metadata": {
      "needs_background": "light"
     },
     "output_type": "display_data"
    }
   ],
   "source": [
    "fpr, tpr, thresholds = roc_curve(y_test, y_pred_svm)\n",
    "\n",
    "#Calculate the area under the curve(AUC)\n",
    "roc_auc = auc(fpr, tpr)\n",
    "\n",
    "#plot ROC Curve\n",
    "plt.figure(figsize = (8,6))\n",
    "plt.plot(fpr, tpr, color = 'red', lw = 2, label = 'ROC Curve (area = %0.2f)'% roc_auc)\n",
    "plt.plot([0,1], [0,1], color = 'blue', lw = 2, linestyle = '--')\n",
    "plt.xlabel('False Positive Rate')\n",
    "plt.ylabel('True Positive Rate')\n",
    "plt.title('Receiver Operating Characteristic (ROC)')\n",
    "plt.legend(loc = 'upper left')\n",
    "plt.show()"
   ]
  },
  {
   "cell_type": "markdown",
   "id": "b71d5366",
   "metadata": {},
   "source": [
    "Similar to the Decision Tree model, both the Random Forest and SVC models have also achieved an AUC of 0.78. This indicates that the SVC model has a 78% chance of accurately distinguishing between positive and negative cases. The ROC curve visually illustrates this performance, with a higher curve signifying a superior ability to classify the two classes."
   ]
  },
  {
   "cell_type": "markdown",
   "id": "e46ca90e",
   "metadata": {},
   "source": [
    "### Conclusion"
   ]
  },
  {
   "cell_type": "markdown",
   "id": "1ebdcbe5",
   "metadata": {},
   "source": [
    "After rigorous testing and evaluation of the data using various algorithms, we have concluded that Logistic Regression yielded the lowest accuracy at 95.67%. Conversely, the SVM algorithm, Decision Tree algorithm, and Random Forest algorithm demonstrated significantly improved accuracy, approaching 97%. Therefore, any of these three models(i.e.,SVM, Decision Tree, or Random Forest) can be confidently employed for further analysis and prediction tasks based on their high accuracy levels.\""
   ]
  },
  {
   "cell_type": "code",
   "execution_count": null,
   "id": "8311762a",
   "metadata": {},
   "outputs": [],
   "source": []
  }
 ],
 "metadata": {
  "kernelspec": {
   "display_name": "Python 3 (ipykernel)",
   "language": "python",
   "name": "python3"
  },
  "language_info": {
   "codemirror_mode": {
    "name": "ipython",
    "version": 3
   },
   "file_extension": ".py",
   "mimetype": "text/x-python",
   "name": "python",
   "nbconvert_exporter": "python",
   "pygments_lexer": "ipython3",
   "version": "3.9.12"
  }
 },
 "nbformat": 4,
 "nbformat_minor": 5
}
